{
 "cells": [
  {
   "cell_type": "markdown",
   "metadata": {},
   "source": [
    "# Financial Planning with APIs and Simulations\n",
    "\n",
    "In this Challenge, you’ll create two financial analysis tools by using a single Jupyter notebook:\n",
    "\n",
    "Part 1: A financial planner for emergencies. The members will be able to use this tool to visualize their current savings. The members can then determine if they have enough reserves for an emergency fund.\n",
    "\n",
    "Part 2: A financial planner for retirement. This tool will forecast the performance of their retirement portfolio in 30 years. To do this, the tool will make an Alpaca API call via the Alpaca SDK to get historical price data for use in Monte Carlo simulations.\n",
    "\n",
    "You’ll use the information from the Monte Carlo simulation to answer questions about the portfolio in your Jupyter notebook.\n",
    "\n"
   ]
  },
  {
   "cell_type": "code",
   "execution_count": 1,
   "metadata": {},
   "outputs": [],
   "source": [
    "# Import the required libraries and dependencies\n",
    "import os\n",
    "import requests\n",
    "import json\n",
    "import pandas as pd\n",
    "from dotenv import load_dotenv\n",
    "import alpaca_trade_api as tradeapi\n",
    "from MCForecastTools import MCSimulation\n",
    "\n",
    "%matplotlib inline"
   ]
  },
  {
   "cell_type": "code",
   "execution_count": 2,
   "metadata": {},
   "outputs": [
    {
     "data": {
      "text/plain": [
       "True"
      ]
     },
     "execution_count": 2,
     "metadata": {},
     "output_type": "execute_result"
    }
   ],
   "source": [
    "# Load the environment variables from the .env file\n",
    "#by calling the load_dotenv function\n",
    "load_dotenv()"
   ]
  },
  {
   "cell_type": "markdown",
   "metadata": {},
   "source": [
    "## Part 1: Create a Financial Planner for Emergencies"
   ]
  },
  {
   "cell_type": "markdown",
   "metadata": {},
   "source": [
    "### Evaluate the Cryptocurrency Wallet by Using the Requests Library\n",
    "\n",
    "In this section, you’ll determine the current value of a member’s cryptocurrency wallet. You’ll collect the current prices for the Bitcoin and Ethereum cryptocurrencies by using the Python Requests library. For the prototype, you’ll assume that the member holds the 1.2 Bitcoins (BTC) and 5.3 Ethereum coins (ETH). To do all this, complete the following steps:\n",
    "\n",
    "1. Create a variable named `monthly_income`, and set its value to `12000`.\n",
    "\n",
    "2. Use the Requests library to get the current price (in US dollars) of Bitcoin (BTC) and Ethereum (ETH) by using the API endpoints that the starter code supplies.\n",
    "\n",
    "3. Navigate the JSON response object to access the current price of each coin, and store each in a variable.\n",
    "\n",
    "    > **Hint** Note the specific identifier for each cryptocurrency in the API JSON response. The Bitcoin identifier is `1`, and the Ethereum identifier is `1027`.\n",
    "\n",
    "4. Calculate the value, in US dollars, of the current amount of each cryptocurrency and of the entire cryptocurrency wallet.\n",
    "\n"
   ]
  },
  {
   "cell_type": "code",
   "execution_count": 42,
   "metadata": {},
   "outputs": [],
   "source": [
    "# The current number of coins for each cryptocurrency asset held in the portfolio.\n",
    "btc_coins = 1.2\n",
    "eth_coins = 5.3"
   ]
  },
  {
   "cell_type": "markdown",
   "metadata": {},
   "source": [
    "#### Step 1: Create a variable named `monthly_income`, and set its value to `12000`."
   ]
  },
  {
   "cell_type": "code",
   "execution_count": 4,
   "metadata": {},
   "outputs": [],
   "source": [
    "# The monthly amount for the member's household income\n",
    "monthly_income = 1200"
   ]
  },
  {
   "cell_type": "markdown",
   "metadata": {},
   "source": [
    "#### Review the endpoint URLs for the API calls to Free Crypto API in order to get the current pricing information for both BTC and ETH."
   ]
  },
  {
   "cell_type": "code",
   "execution_count": 5,
   "metadata": {},
   "outputs": [],
   "source": [
    "# The Free Crypto API Call endpoint URLs for the held cryptocurrency assets\n",
    "btc_url = \"https://api.alternative.me/v2/ticker/Bitcoin/?convert=USD\"\n",
    "eth_url = \"https://api.alternative.me/v2/ticker/Ethereum/?convert=USD\""
   ]
  },
  {
   "cell_type": "markdown",
   "metadata": {},
   "source": [
    "#### Step 2. Use the Requests library to get the current price (in US dollars) of Bitcoin (BTC) and Ethereum (ETH) by using the API endpoints that the starter code supplied."
   ]
  },
  {
   "cell_type": "code",
   "execution_count": 7,
   "metadata": {},
   "outputs": [
    {
     "name": "stdout",
     "output_type": "stream",
     "text": [
      "{\n",
      "    \"data\": {\n",
      "        \"1\": {\n",
      "            \"circulating_supply\": 18772218,\n",
      "            \"id\": 1,\n",
      "            \"last_updated\": 1627736082,\n",
      "            \"max_supply\": 21000000,\n",
      "            \"name\": \"Bitcoin\",\n",
      "            \"quotes\": {\n",
      "                \"USD\": {\n",
      "                    \"market_cap\": 779794482492,\n",
      "                    \"percent_change_1h\": -0.192069553518226,\n",
      "                    \"percent_change_24h\": 6.98209384653074,\n",
      "                    \"percent_change_7d\": 24.2172795588713,\n",
      "                    \"percentage_change_1h\": -0.192069553518226,\n",
      "                    \"percentage_change_24h\": 6.98209384653074,\n",
      "                    \"percentage_change_7d\": 24.2172795588713,\n",
      "                    \"price\": 41558.0,\n",
      "                    \"volume_24h\": 34992271715\n",
      "                }\n",
      "            },\n",
      "            \"rank\": 1,\n",
      "            \"symbol\": \"BTC\",\n",
      "            \"total_supply\": 18772218,\n",
      "            \"website_slug\": \"bitcoin\"\n",
      "        }\n",
      "    },\n",
      "    \"metadata\": {\n",
      "        \"error\": null,\n",
      "        \"num_cryptocurrencies\": 3105,\n",
      "        \"timestamp\": 1627736082\n",
      "    }\n",
      "}\n"
     ]
    }
   ],
   "source": [
    "# Using the Python requests library, make an API call to access the current price of BTC\n",
    "btc_response = requests.get(btc_url).json()\n",
    "\n",
    "# Use the json.dumps function to review the response data from the API call\n",
    "# Use the indent and sort_keys parameters to make the response object readable\n",
    "print(json.dumps(btc_response, indent=4, sort_keys=True))\n"
   ]
  },
  {
   "cell_type": "code",
   "execution_count": 8,
   "metadata": {},
   "outputs": [
    {
     "name": "stdout",
     "output_type": "stream",
     "text": [
      "{\n",
      "    \"data\": {\n",
      "        \"1027\": {\n",
      "            \"circulating_supply\": 116914531,\n",
      "            \"id\": 1027,\n",
      "            \"last_updated\": 1627736080,\n",
      "            \"max_supply\": 0,\n",
      "            \"name\": \"Ethereum\",\n",
      "            \"quotes\": {\n",
      "                \"USD\": {\n",
      "                    \"market_cap\": 287087375019,\n",
      "                    \"percent_change_1h\": -0.445359466546668,\n",
      "                    \"percent_change_24h\": 4.85290202974451,\n",
      "                    \"percent_change_7d\": 15.974292810873,\n",
      "                    \"percentage_change_1h\": -0.445359466546668,\n",
      "                    \"percentage_change_24h\": 4.85290202974451,\n",
      "                    \"percentage_change_7d\": 15.974292810873,\n",
      "                    \"price\": 2455.36,\n",
      "                    \"volume_24h\": 22332030408\n",
      "                }\n",
      "            },\n",
      "            \"rank\": 2,\n",
      "            \"symbol\": \"ETH\",\n",
      "            \"total_supply\": 116914531,\n",
      "            \"website_slug\": \"ethereum\"\n",
      "        }\n",
      "    },\n",
      "    \"metadata\": {\n",
      "        \"error\": null,\n",
      "        \"num_cryptocurrencies\": 3105,\n",
      "        \"timestamp\": 1627736080\n",
      "    }\n",
      "}\n"
     ]
    }
   ],
   "source": [
    "# Using the Python requests library, make an API call to access the current price ETH\n",
    "eth_response = requests.get(eth_url).json()\n",
    "\n",
    "# Use the json.dumps function to review the response data from the API call\n",
    "# Use the indent and sort_keys parameters to make the response object readable\n",
    "print(json.dumps(eth_response, indent=4, sort_keys=True))\n"
   ]
  },
  {
   "cell_type": "markdown",
   "metadata": {},
   "source": [
    "#### Step 3: Navigate the JSON response object to access the current price of each coin, and store each in a variable."
   ]
  },
  {
   "cell_type": "code",
   "execution_count": 38,
   "metadata": {},
   "outputs": [
    {
     "name": "stdout",
     "output_type": "stream",
     "text": [
      "The price of BTC: $41558.0\n"
     ]
    }
   ],
   "source": [
    "# Navigate the BTC response object to access the current price of BTC\n",
    "btc_price = btc_response[\"data\"][\"1\"][\"quotes\"][\"USD\"][\"price\"]\n",
    "\n",
    "# Print the current price of BTC\n",
    "print(f\"The price of BTC: ${btc_price}\")\n"
   ]
  },
  {
   "cell_type": "code",
   "execution_count": 39,
   "metadata": {},
   "outputs": [
    {
     "name": "stdout",
     "output_type": "stream",
     "text": [
      "The price of BTC: $2455.36\n"
     ]
    }
   ],
   "source": [
    "# Navigate the BTC response object to access the current price of ETH\n",
    "eth_price = eth_response[\"data\"][\"1027\"][\"quotes\"][\"USD\"][\"price\"]\n",
    "\n",
    "# Print the current price of ETH\n",
    "print(f\"The price of BTC: ${eth_price}\")\n"
   ]
  },
  {
   "cell_type": "markdown",
   "metadata": {},
   "source": [
    "### Step 4: Calculate the value, in US dollars, of the current amount of each cryptocurrency and of the entire cryptocurrency wallet."
   ]
  },
  {
   "cell_type": "code",
   "execution_count": 44,
   "metadata": {},
   "outputs": [
    {
     "name": "stdout",
     "output_type": "stream",
     "text": [
      "The value of your BTC holdings: $49869.6\n"
     ]
    }
   ],
   "source": [
    "# Compute the current value of the BTC holding \n",
    "btc_value = btc_coins * btc_price\n",
    "\n",
    "# Print current value of your holding in BTC\n",
    "print(f\"The value of your BTC holdings: ${btc_value}\")\n"
   ]
  },
  {
   "cell_type": "code",
   "execution_count": 45,
   "metadata": {},
   "outputs": [
    {
     "name": "stdout",
     "output_type": "stream",
     "text": [
      "The value of your BTC holdings: $13013.408\n"
     ]
    }
   ],
   "source": [
    "# Compute the current value of the ETH holding \n",
    "eth_value = eth_coins * eth_price\n",
    "\n",
    "# Print current value of your holding in ETH\n",
    "print(f\"The value of your BTC holdings: ${eth_value}\")\n"
   ]
  },
  {
   "cell_type": "code",
   "execution_count": 46,
   "metadata": {},
   "outputs": [
    {
     "name": "stdout",
     "output_type": "stream",
     "text": [
      "The total value of your crypto holdings: $62883.008\n"
     ]
    }
   ],
   "source": [
    "# Compute the total value of the cryptocurrency wallet\n",
    "# Add the value of the BTC holding to the value of the ETH holding\n",
    "total_crypto_wallet = btc_value + eth_value\n",
    "\n",
    "# Print current cryptocurrency wallet balance\n",
    "print(f\"The total value of your crypto holdings: ${total_crypto_wallet}\")\n"
   ]
  },
  {
   "cell_type": "markdown",
   "metadata": {},
   "source": [
    "### Evaluate the Stock and Bond Holdings by Using the Alpaca SDK\n",
    "\n",
    "In this section, you’ll determine the current value of a member’s stock and bond holdings. You’ll make an API call to Alpaca via the Alpaca SDK to get the current closing prices of the SPDR S&P 500 ETF Trust (ticker: SPY) and of the iShares Core US Aggregate Bond ETF (ticker: AGG). For the prototype, assume that the member holds 110 shares of SPY, which represents the stock portion of their portfolio, and 200 shares of AGG, which represents the bond portion. To do all this, complete the following steps:\n",
    "\n",
    "1. In the `Starter_Code` folder, create an environment file (`.env`) to store the values of your Alpaca API key and Alpaca secret key.\n",
    "\n",
    "2. Set the variables for the Alpaca API and secret keys. Using the Alpaca SDK, create the Alpaca `tradeapi.REST` object. In this object, include the parameters for the Alpaca API key, the secret key, and the version number.\n",
    "\n",
    "3. Set the following parameters for the Alpaca API call:\n",
    "\n",
    "    - `tickers`: Use the tickers for the member’s stock and bond holdings.\n",
    "\n",
    "    - `timeframe`: Use a time frame of one day.\n",
    "\n",
    "    - `start_date` and `end_date`: Use the same date for these parameters, and format them with the date of the previous weekday (or `2020-08-07`). This is because you want the one closing price for the most-recent trading day.\n",
    "\n",
    "4. Get the current closing prices for `SPY` and `AGG` by using the Alpaca `get_barset` function. Format the response as a Pandas DataFrame by including the `df` property at the end of the `get_barset` function.\n",
    "\n",
    "5. Navigating the Alpaca response DataFrame, select the `SPY` and `AGG` closing prices, and store them as variables.\n",
    "\n",
    "6. Calculate the value, in US dollars, of the current amount of shares in each of the stock and bond portions of the portfolio, and print the results.\n"
   ]
  },
  {
   "cell_type": "markdown",
   "metadata": {},
   "source": [
    "#### Review the total number of shares held in both (SPY) and (AGG)."
   ]
  },
  {
   "cell_type": "code",
   "execution_count": 65,
   "metadata": {},
   "outputs": [],
   "source": [
    "# Current amount of shares held in both the stock (SPY) and bond (AGG) portion of the portfolio.\n",
    "spy_shares = 110\n",
    "agg_shares = 200\n"
   ]
  },
  {
   "cell_type": "markdown",
   "metadata": {},
   "source": [
    "#### Step 1: In the `Starter_Code` folder, create an environment file (`.env`) to store the values of your Alpaca API key and Alpaca secret key."
   ]
  },
  {
   "cell_type": "markdown",
   "metadata": {},
   "source": [
    "#### Step 2: Set the variables for the Alpaca API and secret keys. Using the Alpaca SDK, create the Alpaca `tradeapi.REST` object. In this object, include the parameters for the Alpaca API key, the secret key, and the version number."
   ]
  },
  {
   "cell_type": "code",
   "execution_count": 50,
   "metadata": {},
   "outputs": [
    {
     "data": {
      "text/plain": [
       "str"
      ]
     },
     "metadata": {},
     "output_type": "display_data"
    },
    {
     "data": {
      "text/plain": [
       "str"
      ]
     },
     "metadata": {},
     "output_type": "display_data"
    }
   ],
   "source": [
    "# Set the variables for the Alpaca API and secret keys\n",
    "alpaca_api = os.getenv(\"ALPACA_API\")\n",
    "alpaca_secret_key = os.getenv(\"ALPACA_SECRET_KEY\")\n",
    "\n",
    "# Create the Alpaca tradeapi.REST object\n",
    "alpaca = tradeapi.REST(\n",
    "alpaca_api, alpaca_secret_key, api_version = \"V2\")\n",
    "\n",
    "#show the types of each api variable to ensure proper code\n",
    "display(type(alpaca_api))\n",
    "display(type(alpaca_secret_key))\n"
   ]
  },
  {
   "cell_type": "markdown",
   "metadata": {},
   "source": [
    "#### Step 3: Set the following parameters for the Alpaca API call:\n",
    "\n",
    "- `tickers`: Use the tickers for the member’s stock and bond holdings.\n",
    "\n",
    "- `timeframe`: Use a time frame of one day.\n",
    "\n",
    "- `start_date` and `end_date`: Use the same date for these parameters, and format them with the date of the previous weekday (or `2020-08-07`). This is because you want the one closing price for the most-recent trading day.\n"
   ]
  },
  {
   "cell_type": "code",
   "execution_count": 56,
   "metadata": {},
   "outputs": [],
   "source": [
    "# Set the tickers for both the bond and stock portion of the portfolio\n",
    "tickers = [\"SPY\", \"AGG\"]\n",
    "\n",
    "# Set timeframe to 1D \n",
    "timeframe = \"1D\"\n",
    "\n",
    "#set a limit to 1000 rows\n",
    "limit_rows=1000\n",
    "\n",
    "# Format current date as ISO format\n",
    "# Set both the start and end date at the date of your prior weekday \n",
    "# This will give you the closing price of the previous trading day\n",
    "# Alternatively you can use a start and end date of 2020-08-07\n",
    "start_date = pd.Timestamp(\"2021-07-30\", tz=\"America/New_York\").isoformat()\n",
    "end_date = pd.Timestamp(\"2021-07-30\", tz=\"America/New_York\").isoformat()\n"
   ]
  },
  {
   "cell_type": "markdown",
   "metadata": {},
   "source": [
    "#### Step 4: Get the current closing prices for `SPY` and `AGG` by using the Alpaca `get_barset` function. Format the response as a Pandas DataFrame by including the `df` property at the end of the `get_barset` function."
   ]
  },
  {
   "cell_type": "code",
   "execution_count": 57,
   "metadata": {},
   "outputs": [
    {
     "data": {
      "text/html": [
       "<div>\n",
       "<style scoped>\n",
       "    .dataframe tbody tr th:only-of-type {\n",
       "        vertical-align: middle;\n",
       "    }\n",
       "\n",
       "    .dataframe tbody tr th {\n",
       "        vertical-align: top;\n",
       "    }\n",
       "\n",
       "    .dataframe thead tr th {\n",
       "        text-align: left;\n",
       "    }\n",
       "\n",
       "    .dataframe thead tr:last-of-type th {\n",
       "        text-align: right;\n",
       "    }\n",
       "</style>\n",
       "<table border=\"1\" class=\"dataframe\">\n",
       "  <thead>\n",
       "    <tr>\n",
       "      <th></th>\n",
       "      <th colspan=\"5\" halign=\"left\">AGG</th>\n",
       "      <th colspan=\"5\" halign=\"left\">SPY</th>\n",
       "    </tr>\n",
       "    <tr>\n",
       "      <th></th>\n",
       "      <th>open</th>\n",
       "      <th>high</th>\n",
       "      <th>low</th>\n",
       "      <th>close</th>\n",
       "      <th>volume</th>\n",
       "      <th>open</th>\n",
       "      <th>high</th>\n",
       "      <th>low</th>\n",
       "      <th>close</th>\n",
       "      <th>volume</th>\n",
       "    </tr>\n",
       "    <tr>\n",
       "      <th>time</th>\n",
       "      <th></th>\n",
       "      <th></th>\n",
       "      <th></th>\n",
       "      <th></th>\n",
       "      <th></th>\n",
       "      <th></th>\n",
       "      <th></th>\n",
       "      <th></th>\n",
       "      <th></th>\n",
       "      <th></th>\n",
       "    </tr>\n",
       "  </thead>\n",
       "  <tbody>\n",
       "    <tr>\n",
       "      <th>2021-07-30 00:00:00-04:00</th>\n",
       "      <td>116.36</td>\n",
       "      <td>116.485</td>\n",
       "      <td>116.3532</td>\n",
       "      <td>116.45</td>\n",
       "      <td>4859650</td>\n",
       "      <td>437.91</td>\n",
       "      <td>440.06</td>\n",
       "      <td>437.77</td>\n",
       "      <td>438.49</td>\n",
       "      <td>56594282</td>\n",
       "    </tr>\n",
       "  </tbody>\n",
       "</table>\n",
       "</div>"
      ],
      "text/plain": [
       "                              AGG                                         SPY  \\\n",
       "                             open     high       low   close   volume    open   \n",
       "time                                                                            \n",
       "2021-07-30 00:00:00-04:00  116.36  116.485  116.3532  116.45  4859650  437.91   \n",
       "\n",
       "                                                             \n",
       "                             high     low   close    volume  \n",
       "time                                                         \n",
       "2021-07-30 00:00:00-04:00  440.06  437.77  438.49  56594282  "
      ]
     },
     "execution_count": 57,
     "metadata": {},
     "output_type": "execute_result"
    }
   ],
   "source": [
    "# Use the Alpaca get_barset function to get current closing prices the portfolio\n",
    "# Be sure to set the `df` property after the function to format the response object as a DataFrame\n",
    "prices_df = alpaca.get_barset( tickers, timeframe, start=start_date, end=end_date, limit = limit_rows).df\n",
    "\n",
    "# Review the first 5 rows of the Alpaca DataFrame\n",
    "prices_df.head()\n"
   ]
  },
  {
   "cell_type": "markdown",
   "metadata": {},
   "source": [
    "#### Step 5: Navigating the Alpaca response DataFrame, select the `SPY` and `AGG` closing prices, and store them as variables."
   ]
  },
  {
   "cell_type": "code",
   "execution_count": 62,
   "metadata": {},
   "outputs": [
    {
     "name": "stdout",
     "output_type": "stream",
     "text": [
      "The closing price of AGG is $116.45\n"
     ]
    }
   ],
   "source": [
    "# Access the closing price for AGG from the Alpaca DataFrame\n",
    "# Converting the value to a floating point number\n",
    "agg_close_price = float(prices_df[\"AGG\"][\"close\"])\n",
    "\n",
    "# Print the AGG closing price\n",
    "print(f\"The closing price of AGG is ${agg_close_price}\")\n"
   ]
  },
  {
   "cell_type": "code",
   "execution_count": 63,
   "metadata": {},
   "outputs": [
    {
     "name": "stdout",
     "output_type": "stream",
     "text": [
      "The closing price of AGG is $438.49\n"
     ]
    }
   ],
   "source": [
    "# Access the closing price for SPY from the Alpaca DataFrame\n",
    "# Converting the value to a floating point number\n",
    "spy_close_price = float(prices_df[\"SPY\"][\"close\"])\n",
    "\n",
    "# Print the SPY closing price\n",
    "print(f\"The closing price of AGG is ${spy_close_price}\")\n"
   ]
  },
  {
   "cell_type": "markdown",
   "metadata": {},
   "source": [
    "#### Step 6: Calculate the value, in US dollars, of the current amount of shares in each of the stock and bond portions of the portfolio, and print the results."
   ]
  },
  {
   "cell_type": "code",
   "execution_count": 66,
   "metadata": {},
   "outputs": [
    {
     "name": "stdout",
     "output_type": "stream",
     "text": [
      "The ccurrent value of $AGG shares is  $23290.0\n"
     ]
    }
   ],
   "source": [
    "# Calculate the current value of the bond portion of the portfolio\n",
    "agg_value = agg_shares * agg_close_price\n",
    "\n",
    "# Print the current value of the bond portfolio\n",
    "print(f\"The current value of $AGG shares is  ${agg_value}\")\n"
   ]
  },
  {
   "cell_type": "code",
   "execution_count": 67,
   "metadata": {},
   "outputs": [
    {
     "name": "stdout",
     "output_type": "stream",
     "text": [
      "The ccurrent value of $SPY shares is  $48233.9\n"
     ]
    }
   ],
   "source": [
    "# Calculate the current value of the stock portion of the portfolio\n",
    "spy_value = spy_shares * spy_close_price\n",
    "\n",
    "# Print the current value of the stock portfolio\n",
    "print(f\"The current value of $SPY shares is  ${spy_value}\")\n"
   ]
  },
  {
   "cell_type": "code",
   "execution_count": 68,
   "metadata": {},
   "outputs": [
    {
     "name": "stdout",
     "output_type": "stream",
     "text": [
      "The current value of total portfolio is  $71523.9\n"
     ]
    }
   ],
   "source": [
    "# Calculate the total value of the stock and bond portion of the portfolio\n",
    "total_stocks_bonds = agg_value + spy_value\n",
    "\n",
    "# Print the current balance of the stock and bond portion of the portfolio\n",
    "print(f\"The current value of total portfolio is  ${total_stocks_bonds}\")\n"
   ]
  },
  {
   "cell_type": "code",
   "execution_count": 69,
   "metadata": {},
   "outputs": [
    {
     "name": "stdout",
     "output_type": "stream",
     "text": [
      "The total value of the crypto, stock, and bonds is $134406.908\n"
     ]
    }
   ],
   "source": [
    "# Calculate the total value of the member's entire savings portfolio\n",
    "# Add the value of the cryptocurrency walled to the value of the total stocks and bonds\n",
    "total_portfolio = total_crypto_wallet + total_stocks_bonds\n",
    "\n",
    "# Print current cryptocurrency wallet balance\n",
    "print(f\"The total value of the crypto, stock, and bonds is ${total_portfolio}\")\n"
   ]
  },
  {
   "cell_type": "markdown",
   "metadata": {},
   "source": [
    "### Evaluate the Emergency Fund\n",
    "\n",
    "In this section, you’ll use the valuations for the cryptocurrency wallet and for the stock and bond portions of the portfolio to determine if the credit union member has enough savings to build an emergency fund into their financial plan. To do this, complete the following steps:\n",
    "\n",
    "1. Create a Python list named `savings_data` that has two elements. The first element contains the total value of the cryptocurrency wallet. The second element contains the total value of the stock and bond portions of the portfolio.\n",
    "\n",
    "2. Use the `savings_data` list to create a Pandas DataFrame named `savings_df`, and then display this DataFrame. The function to create the DataFrame should take the following three parameters:\n",
    "\n",
    "    - `savings_data`: Use the list that you just created.\n",
    "\n",
    "    - `columns`: Set this parameter equal to a Python list with a single value called `amount`.\n",
    "\n",
    "    - `index`: Set this parameter equal to a Python list with the values of `crypto` and `stock/bond`.\n",
    "\n",
    "3. Use the `savings_df` DataFrame to plot a pie chart that visualizes the composition of the member’s portfolio. The y-axis of the pie chart uses `amount`. Be sure to add a title.\n",
    "\n",
    "4. Using Python, determine if the current portfolio has enough to create an emergency fund as part of the member’s financial plan. Ideally, an emergency fund should equal to three times the member’s monthly income. To do this, implement the following steps:\n",
    "\n",
    "    1. Create a variable named `emergency_fund_value`, and set it equal to three times the value of the member’s `monthly_income` of $12000. (You set this earlier in Part 1).\n",
    "\n",
    "    2. Create a series of three if statements to determine if the member’s total portfolio is large enough to fund the emergency portfolio:\n",
    "\n",
    "        1. If the total portfolio value is greater than the emergency fund value, display a message congratulating the member for having enough money in this fund.\n",
    "\n",
    "        2. Else if the total portfolio value is equal to the emergency fund value, display a message congratulating the member on reaching this important financial goal.\n",
    "\n",
    "        3. Else the total portfolio is less than the emergency fund value, so display a message showing how many dollars away the member is from reaching the goal. (Subtract the total portfolio value from the emergency fund value.)\n"
   ]
  },
  {
   "cell_type": "markdown",
   "metadata": {},
   "source": [
    "#### Step 1: Create a Python list named `savings_data` that has two elements. The first element contains the total value of the cryptocurrency wallet. The second element contains the total value of the stock and bond portions of the portfolio."
   ]
  },
  {
   "cell_type": "code",
   "execution_count": 72,
   "metadata": {},
   "outputs": [
    {
     "data": {
      "text/plain": [
       "[62883.008, 71523.9]"
      ]
     },
     "execution_count": 72,
     "metadata": {},
     "output_type": "execute_result"
    }
   ],
   "source": [
    "# Consolidate financial assets data into a Python list\n",
    "savings_data = [total_crypto_wallet, total_stocks_bonds]\n",
    "\n",
    "# Review the Python list savings_data\n",
    "savings_data\n",
    "    "
   ]
  },
  {
   "cell_type": "markdown",
   "metadata": {},
   "source": [
    "#### Step 2: Use the `savings_data` list to create a Pandas DataFrame named `savings_df`, and then display this DataFrame. The function to create the DataFrame should take the following three parameters:\n",
    "\n",
    "- `savings_data`: Use the list that you just created.\n",
    "\n",
    "- `columns`: Set this parameter equal to a Python list with a single value called `amount`.\n",
    "\n",
    "- `index`: Set this parameter equal to a Python list with the values of `crypto` and `stock/bond`.\n"
   ]
  },
  {
   "cell_type": "code",
   "execution_count": 98,
   "metadata": {},
   "outputs": [
    {
     "data": {
      "text/html": [
       "<div>\n",
       "<style scoped>\n",
       "    .dataframe tbody tr th:only-of-type {\n",
       "        vertical-align: middle;\n",
       "    }\n",
       "\n",
       "    .dataframe tbody tr th {\n",
       "        vertical-align: top;\n",
       "    }\n",
       "\n",
       "    .dataframe thead th {\n",
       "        text-align: right;\n",
       "    }\n",
       "</style>\n",
       "<table border=\"1\" class=\"dataframe\">\n",
       "  <thead>\n",
       "    <tr style=\"text-align: right;\">\n",
       "      <th></th>\n",
       "      <th>amount</th>\n",
       "    </tr>\n",
       "  </thead>\n",
       "  <tbody>\n",
       "    <tr>\n",
       "      <th>crypto</th>\n",
       "      <td>62883.008</td>\n",
       "    </tr>\n",
       "    <tr>\n",
       "      <th>stock/bond</th>\n",
       "      <td>71523.900</td>\n",
       "    </tr>\n",
       "  </tbody>\n",
       "</table>\n",
       "</div>"
      ],
      "text/plain": [
       "               amount\n",
       "crypto      62883.008\n",
       "stock/bond  71523.900"
      ]
     },
     "execution_count": 98,
     "metadata": {},
     "output_type": "execute_result"
    }
   ],
   "source": [
    "# Create a Pandas DataFrame called savings_df \n",
    "savings_df = pd.DataFrame(savings_data, columns=[\"amount\"], index=[\"crypto\", \"stock/bond\"])\n",
    "\n",
    "# Display the savings_df DataFrame\n",
    "savings_df\n"
   ]
  },
  {
   "cell_type": "markdown",
   "metadata": {},
   "source": [
    "#### Step 3: Use the `savings_df` DataFrame to plot a pie chart that visualizes the composition of the member’s portfolio. The y-axis of the pie chart uses `amount`. Be sure to add a title."
   ]
  },
  {
   "cell_type": "code",
   "execution_count": 111,
   "metadata": {},
   "outputs": [
    {
     "data": {
      "text/plain": [
       "<AxesSubplot:title={'center':'Portfolio Breakdown'}, ylabel='amount'>"
      ]
     },
     "execution_count": 111,
     "metadata": {},
     "output_type": "execute_result"
    },
    {
     "data": {
      "image/png": "[encoded data removed]",
      "text/plain": [
       "<Figure size 720x720 with 1 Axes>"
      ]
     },
     "metadata": {},
     "output_type": "display_data"
    }
   ],
   "source": [
    "# Plot the total value of the member's portfolio (crypto and stock/bond) in a pie chart\n",
    "savings_df.plot.pie(legend=True, y='amount', title=\"Portfolio Breakdown\", figsize=(10,10))\n"
   ]
  },
  {
   "cell_type": "markdown",
   "metadata": {},
   "source": [
    "#### Step 4: Using Python, determine if the current portfolio has enough to create an emergency fund as part of the member’s financial plan. Ideally, an emergency fund should equal to three times the member’s monthly income. To do this, implement the following steps:\n",
    "\n",
    "Step 1. Create a variable named `emergency_fund_value`, and set it equal to three times the value of the member’s `monthly_income` of 12000. (You set this earlier in Part 1).\n",
    "\n",
    "Step 2. Create a series of three if statements to determine if the member’s total portfolio is large enough to fund the emergency portfolio:\n",
    "\n",
    "* If the total portfolio value is greater than the emergency fund value, display a message congratulating the member for having enough money in this fund.\n",
    "\n",
    "* Else if the total portfolio value is equal to the emergency fund value, display a message congratulating the member on reaching this important financial goal.\n",
    "\n",
    "* Else the total portfolio is less than the emergency fund value, so display a message showing how many dollars away the member is from reaching the goal. (Subtract the total portfolio value from the emergency fund value.)\n"
   ]
  },
  {
   "cell_type": "markdown",
   "metadata": {},
   "source": [
    "##### Step 4-1: Create a variable named `emergency_fund_value`, and set it equal to three times the value of the member’s `monthly_income` of 12000. (You set this earlier in Part 1)."
   ]
  },
  {
   "cell_type": "code",
   "execution_count": 127,
   "metadata": {},
   "outputs": [
    {
     "name": "stdout",
     "output_type": "stream",
     "text": [
      "Your required emergency fund value is: $3600\n"
     ]
    }
   ],
   "source": [
    "# Create a variable named emergency_fund_value\n",
    "emergency_fund_value = monthly_income * 3\n",
    "\n",
    "print(f\"Your required emergency fund value is: ${emergency_fund_value}\")\n"
   ]
  },
  {
   "cell_type": "markdown",
   "metadata": {},
   "source": [
    "##### Step 4-2: Create a series of three if statements to determine if the member’s total portfolio is large enough to fund the emergency portfolio:\n",
    "\n",
    "* If the total portfolio value is greater than the emergency fund value, display a message congratulating the member for having enough money in this fund.\n",
    "\n",
    "* Else if the total portfolio value is equal to the emergency fund value, display a message congratulating the member on reaching this important financial goal.\n",
    "\n",
    "* Else the total portfolio is less than the emergency fund value, so display a message showing how many dollars away the member is from reaching the goal. (Subtract the total portfolio value from the emergency fund value.)"
   ]
  },
  {
   "cell_type": "code",
   "execution_count": 129,
   "metadata": {},
   "outputs": [
    {
     "name": "stdout",
     "output_type": "stream",
     "text": [
      "Congratulations, you have enough money in your emergency fund.\n"
     ]
    }
   ],
   "source": [
    "# Evaluate the possibility of creating an emergency fund with 3 conditions:\n",
    "if total_portfolio > emergency_fund_value:\n",
    "    print(\"Congratulations, you have enough money in your emergency fund.\")\n",
    "elif total_portfolio == emergency_fund_value:\n",
    "    print(\"Congratulations you just made it, your portfolio equals the amount required for your emergency fund.\")\n",
    "\n",
    "else:\n",
    "    print(f\"Sorry you are ${emergency_fund_value - total_portfolio} away from your required limit.\")\n"
   ]
  },
  {
   "cell_type": "markdown",
   "metadata": {},
   "source": [
    "## Part 2: Create a Financial Planner for Retirement"
   ]
  },
  {
   "cell_type": "markdown",
   "metadata": {},
   "source": [
    "### Create the Monte Carlo Simulation\n",
    "\n",
    "In this section, you’ll use the MCForecastTools library to create a Monte Carlo simulation for the member’s savings portfolio. To do this, complete the following steps:\n",
    "\n",
    "1. Make an API call via the Alpaca SDK to get 3 years of historical closing prices for a traditional 60/40 portfolio split: 60% stocks (SPY) and 40% bonds (AGG).\n",
    "\n",
    "2. Run a Monte Carlo simulation of 500 samples and 30 years for the 60/40 portfolio, and then plot the results.The following image shows the overlay line plot resulting from a simulation with these characteristics. However, because a random number generator is used to run each live Monte Carlo simulation, your image will differ slightly from this exact image:\n",
    "\n",
    "![A screenshot depicts the resulting plot.](Images/5-4-monte-carlo-line-plot.png)\n",
    "\n",
    "3. Plot the probability distribution of the Monte Carlo simulation. Plot the probability distribution of the Monte Carlo simulation. The following image shows the histogram plot resulting from a simulation with these characteristics. However, because a random number generator is used to run each live Monte Carlo simulation, your image will differ slightly from this exact image:\n",
    "\n",
    "![A screenshot depicts the histogram plot.](Images/5-4-monte-carlo-histogram.png)\n",
    "\n",
    "4. Generate the summary statistics for the Monte Carlo simulation.\n",
    "\n"
   ]
  },
  {
   "cell_type": "markdown",
   "metadata": {},
   "source": [
    "#### Step 1: Make an API call via the Alpaca SDK to get 3 years of historical closing prices for a traditional 60/40 portfolio split: 60% stocks (SPY) and 40% bonds (AGG)."
   ]
  },
  {
   "cell_type": "code",
   "execution_count": 136,
   "metadata": {},
   "outputs": [],
   "source": [
    "# Set start and end dates of 3 years back from your current date\n",
    "# Alternatively, you can use an end date of 2020-08-07 and work 3 years back from that date \n",
    "start_date = pd.Timestamp(\"2018-07-30\", tz=\"America/New_York\").isoformat()\n",
    "end_date = pd.Timestamp(\"2021-07-30\", tz=\"America/New_York\").isoformat()\n",
    "\n",
    "# Set number of rows to 1000 to retrieve the maximum amount of rows\n",
    "limit_rows = 1000"
   ]
  },
  {
   "cell_type": "code",
   "execution_count": 137,
   "metadata": {},
   "outputs": [
    {
     "data": {
      "text/html": [
       "<div>\n",
       "<style scoped>\n",
       "    .dataframe tbody tr th:only-of-type {\n",
       "        vertical-align: middle;\n",
       "    }\n",
       "\n",
       "    .dataframe tbody tr th {\n",
       "        vertical-align: top;\n",
       "    }\n",
       "\n",
       "    .dataframe thead tr th {\n",
       "        text-align: left;\n",
       "    }\n",
       "\n",
       "    .dataframe thead tr:last-of-type th {\n",
       "        text-align: right;\n",
       "    }\n",
       "</style>\n",
       "<table border=\"1\" class=\"dataframe\">\n",
       "  <thead>\n",
       "    <tr>\n",
       "      <th></th>\n",
       "      <th colspan=\"5\" halign=\"left\">AGG</th>\n",
       "      <th colspan=\"5\" halign=\"left\">SPY</th>\n",
       "    </tr>\n",
       "    <tr>\n",
       "      <th></th>\n",
       "      <th>open</th>\n",
       "      <th>high</th>\n",
       "      <th>low</th>\n",
       "      <th>close</th>\n",
       "      <th>volume</th>\n",
       "      <th>open</th>\n",
       "      <th>high</th>\n",
       "      <th>low</th>\n",
       "      <th>close</th>\n",
       "      <th>volume</th>\n",
       "    </tr>\n",
       "    <tr>\n",
       "      <th>time</th>\n",
       "      <th></th>\n",
       "      <th></th>\n",
       "      <th></th>\n",
       "      <th></th>\n",
       "      <th></th>\n",
       "      <th></th>\n",
       "      <th></th>\n",
       "      <th></th>\n",
       "      <th></th>\n",
       "      <th></th>\n",
       "    </tr>\n",
       "  </thead>\n",
       "  <tbody>\n",
       "    <tr>\n",
       "      <th>2018-07-30 00:00:00-04:00</th>\n",
       "      <td>105.94</td>\n",
       "      <td>106.0500</td>\n",
       "      <td>105.910</td>\n",
       "      <td>105.95</td>\n",
       "      <td>2784448.0</td>\n",
       "      <td>281.49</td>\n",
       "      <td>281.69</td>\n",
       "      <td>279.3600</td>\n",
       "      <td>279.89</td>\n",
       "      <td>46935673</td>\n",
       "    </tr>\n",
       "    <tr>\n",
       "      <th>2018-07-31 00:00:00-04:00</th>\n",
       "      <td>106.11</td>\n",
       "      <td>106.1756</td>\n",
       "      <td>106.050</td>\n",
       "      <td>106.06</td>\n",
       "      <td>4704161.0</td>\n",
       "      <td>280.81</td>\n",
       "      <td>282.02</td>\n",
       "      <td>280.3800</td>\n",
       "      <td>281.22</td>\n",
       "      <td>48645613</td>\n",
       "    </tr>\n",
       "    <tr>\n",
       "      <th>2018-08-01 00:00:00-04:00</th>\n",
       "      <td>105.55</td>\n",
       "      <td>105.7600</td>\n",
       "      <td>105.512</td>\n",
       "      <td>105.69</td>\n",
       "      <td>3896190.0</td>\n",
       "      <td>281.56</td>\n",
       "      <td>282.13</td>\n",
       "      <td>280.1315</td>\n",
       "      <td>280.92</td>\n",
       "      <td>40627557</td>\n",
       "    </tr>\n",
       "    <tr>\n",
       "      <th>2018-08-02 00:00:00-04:00</th>\n",
       "      <td>105.76</td>\n",
       "      <td>105.7600</td>\n",
       "      <td>105.650</td>\n",
       "      <td>105.73</td>\n",
       "      <td>2989387.0</td>\n",
       "      <td>279.38</td>\n",
       "      <td>282.58</td>\n",
       "      <td>279.1600</td>\n",
       "      <td>282.34</td>\n",
       "      <td>42491022</td>\n",
       "    </tr>\n",
       "    <tr>\n",
       "      <th>2018-08-03 00:00:00-04:00</th>\n",
       "      <td>105.81</td>\n",
       "      <td>105.9799</td>\n",
       "      <td>105.810</td>\n",
       "      <td>105.93</td>\n",
       "      <td>2286629.0</td>\n",
       "      <td>282.53</td>\n",
       "      <td>283.65</td>\n",
       "      <td>282.3300</td>\n",
       "      <td>283.64</td>\n",
       "      <td>34485363</td>\n",
       "    </tr>\n",
       "  </tbody>\n",
       "</table>\n",
       "</div>"
      ],
      "text/plain": [
       "                              AGG                                        \\\n",
       "                             open      high      low   close     volume   \n",
       "time                                                                      \n",
       "2018-07-30 00:00:00-04:00  105.94  106.0500  105.910  105.95  2784448.0   \n",
       "2018-07-31 00:00:00-04:00  106.11  106.1756  106.050  106.06  4704161.0   \n",
       "2018-08-01 00:00:00-04:00  105.55  105.7600  105.512  105.69  3896190.0   \n",
       "2018-08-02 00:00:00-04:00  105.76  105.7600  105.650  105.73  2989387.0   \n",
       "2018-08-03 00:00:00-04:00  105.81  105.9799  105.810  105.93  2286629.0   \n",
       "\n",
       "                              SPY                                      \n",
       "                             open    high       low   close    volume  \n",
       "time                                                                   \n",
       "2018-07-30 00:00:00-04:00  281.49  281.69  279.3600  279.89  46935673  \n",
       "2018-07-31 00:00:00-04:00  280.81  282.02  280.3800  281.22  48645613  \n",
       "2018-08-01 00:00:00-04:00  281.56  282.13  280.1315  280.92  40627557  \n",
       "2018-08-02 00:00:00-04:00  279.38  282.58  279.1600  282.34  42491022  \n",
       "2018-08-03 00:00:00-04:00  282.53  283.65  282.3300  283.64  34485363  "
      ]
     },
     "metadata": {},
     "output_type": "display_data"
    },
    {
     "data": {
      "text/html": [
       "<div>\n",
       "<style scoped>\n",
       "    .dataframe tbody tr th:only-of-type {\n",
       "        vertical-align: middle;\n",
       "    }\n",
       "\n",
       "    .dataframe tbody tr th {\n",
       "        vertical-align: top;\n",
       "    }\n",
       "\n",
       "    .dataframe thead tr th {\n",
       "        text-align: left;\n",
       "    }\n",
       "\n",
       "    .dataframe thead tr:last-of-type th {\n",
       "        text-align: right;\n",
       "    }\n",
       "</style>\n",
       "<table border=\"1\" class=\"dataframe\">\n",
       "  <thead>\n",
       "    <tr>\n",
       "      <th></th>\n",
       "      <th colspan=\"5\" halign=\"left\">AGG</th>\n",
       "      <th colspan=\"5\" halign=\"left\">SPY</th>\n",
       "    </tr>\n",
       "    <tr>\n",
       "      <th></th>\n",
       "      <th>open</th>\n",
       "      <th>high</th>\n",
       "      <th>low</th>\n",
       "      <th>close</th>\n",
       "      <th>volume</th>\n",
       "      <th>open</th>\n",
       "      <th>high</th>\n",
       "      <th>low</th>\n",
       "      <th>close</th>\n",
       "      <th>volume</th>\n",
       "    </tr>\n",
       "    <tr>\n",
       "      <th>time</th>\n",
       "      <th></th>\n",
       "      <th></th>\n",
       "      <th></th>\n",
       "      <th></th>\n",
       "      <th></th>\n",
       "      <th></th>\n",
       "      <th></th>\n",
       "      <th></th>\n",
       "      <th></th>\n",
       "      <th></th>\n",
       "    </tr>\n",
       "  </thead>\n",
       "  <tbody>\n",
       "    <tr>\n",
       "      <th>2021-07-26 00:00:00-04:00</th>\n",
       "      <td>116.30</td>\n",
       "      <td>116.330</td>\n",
       "      <td>116.0850</td>\n",
       "      <td>116.11</td>\n",
       "      <td>7028009.0</td>\n",
       "      <td>439.31</td>\n",
       "      <td>441.03</td>\n",
       "      <td>439.26</td>\n",
       "      <td>440.99</td>\n",
       "      <td>40155852</td>\n",
       "    </tr>\n",
       "    <tr>\n",
       "      <th>2021-07-27 00:00:00-04:00</th>\n",
       "      <td>116.35</td>\n",
       "      <td>116.400</td>\n",
       "      <td>116.2727</td>\n",
       "      <td>116.39</td>\n",
       "      <td>4669859.0</td>\n",
       "      <td>439.91</td>\n",
       "      <td>439.94</td>\n",
       "      <td>435.99</td>\n",
       "      <td>439.00</td>\n",
       "      <td>61032234</td>\n",
       "    </tr>\n",
       "    <tr>\n",
       "      <th>2021-07-28 00:00:00-04:00</th>\n",
       "      <td>116.24</td>\n",
       "      <td>116.490</td>\n",
       "      <td>116.1400</td>\n",
       "      <td>116.48</td>\n",
       "      <td>5189696.0</td>\n",
       "      <td>439.68</td>\n",
       "      <td>440.30</td>\n",
       "      <td>437.31</td>\n",
       "      <td>438.84</td>\n",
       "      <td>47642330</td>\n",
       "    </tr>\n",
       "    <tr>\n",
       "      <th>2021-07-29 00:00:00-04:00</th>\n",
       "      <td>116.29</td>\n",
       "      <td>116.360</td>\n",
       "      <td>116.2250</td>\n",
       "      <td>116.28</td>\n",
       "      <td>5216456.0</td>\n",
       "      <td>439.83</td>\n",
       "      <td>441.80</td>\n",
       "      <td>439.81</td>\n",
       "      <td>440.67</td>\n",
       "      <td>40930880</td>\n",
       "    </tr>\n",
       "    <tr>\n",
       "      <th>2021-07-30 00:00:00-04:00</th>\n",
       "      <td>116.36</td>\n",
       "      <td>116.485</td>\n",
       "      <td>116.3532</td>\n",
       "      <td>116.45</td>\n",
       "      <td>4859650.0</td>\n",
       "      <td>437.91</td>\n",
       "      <td>440.06</td>\n",
       "      <td>437.77</td>\n",
       "      <td>438.49</td>\n",
       "      <td>56594282</td>\n",
       "    </tr>\n",
       "  </tbody>\n",
       "</table>\n",
       "</div>"
      ],
      "text/plain": [
       "                              AGG                                        \\\n",
       "                             open     high       low   close     volume   \n",
       "time                                                                      \n",
       "2021-07-26 00:00:00-04:00  116.30  116.330  116.0850  116.11  7028009.0   \n",
       "2021-07-27 00:00:00-04:00  116.35  116.400  116.2727  116.39  4669859.0   \n",
       "2021-07-28 00:00:00-04:00  116.24  116.490  116.1400  116.48  5189696.0   \n",
       "2021-07-29 00:00:00-04:00  116.29  116.360  116.2250  116.28  5216456.0   \n",
       "2021-07-30 00:00:00-04:00  116.36  116.485  116.3532  116.45  4859650.0   \n",
       "\n",
       "                              SPY                                    \n",
       "                             open    high     low   close    volume  \n",
       "time                                                                 \n",
       "2021-07-26 00:00:00-04:00  439.31  441.03  439.26  440.99  40155852  \n",
       "2021-07-27 00:00:00-04:00  439.91  439.94  435.99  439.00  61032234  \n",
       "2021-07-28 00:00:00-04:00  439.68  440.30  437.31  438.84  47642330  \n",
       "2021-07-29 00:00:00-04:00  439.83  441.80  439.81  440.67  40930880  \n",
       "2021-07-30 00:00:00-04:00  437.91  440.06  437.77  438.49  56594282  "
      ]
     },
     "metadata": {},
     "output_type": "display_data"
    }
   ],
   "source": [
    "# Use the Alpaca get_barset function to make the API call to get the 3 years worth of pricing data\n",
    "# The tickers and timeframe parameters should have been set in Part 1 of this activity \n",
    "# The start and end dates should be updated with the information set above\n",
    "# Remember to add the df property to the end of the call so the response is returned as a DataFrame\n",
    "df_portfolio = alpaca.get_barset(\n",
    "tickers, timeframe, start=start_date, end=end_date, limit= limit_rows ).df\n",
    "\n",
    "\n",
    "# Display both the first and last five rows of the DataFrame\n",
    "display(df_portfolio.head())\n",
    "display(df_portfolio.tail())\n"
   ]
  },
  {
   "cell_type": "markdown",
   "metadata": {},
   "source": [
    "#### Step 2: Run a Monte Carlo simulation of 500 samples and 30 years for the 60/40 portfolio, and then plot the results."
   ]
  },
  {
   "cell_type": "code",
   "execution_count": 154,
   "metadata": {},
   "outputs": [
    {
     "data": {
      "text/html": [
       "<div>\n",
       "<style scoped>\n",
       "    .dataframe tbody tr th:only-of-type {\n",
       "        vertical-align: middle;\n",
       "    }\n",
       "\n",
       "    .dataframe tbody tr th {\n",
       "        vertical-align: top;\n",
       "    }\n",
       "\n",
       "    .dataframe thead tr th {\n",
       "        text-align: left;\n",
       "    }\n",
       "\n",
       "    .dataframe thead tr:last-of-type th {\n",
       "        text-align: right;\n",
       "    }\n",
       "</style>\n",
       "<table border=\"1\" class=\"dataframe\">\n",
       "  <thead>\n",
       "    <tr>\n",
       "      <th></th>\n",
       "      <th colspan=\"6\" halign=\"left\">AGG</th>\n",
       "      <th colspan=\"6\" halign=\"left\">SPY</th>\n",
       "    </tr>\n",
       "    <tr>\n",
       "      <th></th>\n",
       "      <th>open</th>\n",
       "      <th>high</th>\n",
       "      <th>low</th>\n",
       "      <th>close</th>\n",
       "      <th>volume</th>\n",
       "      <th>daily_return</th>\n",
       "      <th>open</th>\n",
       "      <th>high</th>\n",
       "      <th>low</th>\n",
       "      <th>close</th>\n",
       "      <th>volume</th>\n",
       "      <th>daily_return</th>\n",
       "    </tr>\n",
       "    <tr>\n",
       "      <th>time</th>\n",
       "      <th></th>\n",
       "      <th></th>\n",
       "      <th></th>\n",
       "      <th></th>\n",
       "      <th></th>\n",
       "      <th></th>\n",
       "      <th></th>\n",
       "      <th></th>\n",
       "      <th></th>\n",
       "      <th></th>\n",
       "      <th></th>\n",
       "      <th></th>\n",
       "    </tr>\n",
       "  </thead>\n",
       "  <tbody>\n",
       "    <tr>\n",
       "      <th>2018-07-30 00:00:00-04:00</th>\n",
       "      <td>105.94</td>\n",
       "      <td>106.0500</td>\n",
       "      <td>105.910</td>\n",
       "      <td>105.95</td>\n",
       "      <td>2784448.0</td>\n",
       "      <td>NaN</td>\n",
       "      <td>281.49</td>\n",
       "      <td>281.69</td>\n",
       "      <td>279.3600</td>\n",
       "      <td>279.89</td>\n",
       "      <td>46935673</td>\n",
       "      <td>NaN</td>\n",
       "    </tr>\n",
       "    <tr>\n",
       "      <th>2018-07-31 00:00:00-04:00</th>\n",
       "      <td>106.11</td>\n",
       "      <td>106.1756</td>\n",
       "      <td>106.050</td>\n",
       "      <td>106.06</td>\n",
       "      <td>4704161.0</td>\n",
       "      <td>0.001038</td>\n",
       "      <td>280.81</td>\n",
       "      <td>282.02</td>\n",
       "      <td>280.3800</td>\n",
       "      <td>281.22</td>\n",
       "      <td>48645613</td>\n",
       "      <td>0.004752</td>\n",
       "    </tr>\n",
       "    <tr>\n",
       "      <th>2018-08-01 00:00:00-04:00</th>\n",
       "      <td>105.55</td>\n",
       "      <td>105.7600</td>\n",
       "      <td>105.512</td>\n",
       "      <td>105.69</td>\n",
       "      <td>3896190.0</td>\n",
       "      <td>-0.003489</td>\n",
       "      <td>281.56</td>\n",
       "      <td>282.13</td>\n",
       "      <td>280.1315</td>\n",
       "      <td>280.92</td>\n",
       "      <td>40627557</td>\n",
       "      <td>-0.001067</td>\n",
       "    </tr>\n",
       "    <tr>\n",
       "      <th>2018-08-02 00:00:00-04:00</th>\n",
       "      <td>105.76</td>\n",
       "      <td>105.7600</td>\n",
       "      <td>105.650</td>\n",
       "      <td>105.73</td>\n",
       "      <td>2989387.0</td>\n",
       "      <td>0.000378</td>\n",
       "      <td>279.38</td>\n",
       "      <td>282.58</td>\n",
       "      <td>279.1600</td>\n",
       "      <td>282.34</td>\n",
       "      <td>42491022</td>\n",
       "      <td>0.005055</td>\n",
       "    </tr>\n",
       "    <tr>\n",
       "      <th>2018-08-03 00:00:00-04:00</th>\n",
       "      <td>105.81</td>\n",
       "      <td>105.9799</td>\n",
       "      <td>105.810</td>\n",
       "      <td>105.93</td>\n",
       "      <td>2286629.0</td>\n",
       "      <td>0.001892</td>\n",
       "      <td>282.53</td>\n",
       "      <td>283.65</td>\n",
       "      <td>282.3300</td>\n",
       "      <td>283.64</td>\n",
       "      <td>34485363</td>\n",
       "      <td>0.004604</td>\n",
       "    </tr>\n",
       "  </tbody>\n",
       "</table>\n",
       "</div>"
      ],
      "text/plain": [
       "                              AGG                                        \\\n",
       "                             open      high      low   close     volume   \n",
       "time                                                                      \n",
       "2018-07-30 00:00:00-04:00  105.94  106.0500  105.910  105.95  2784448.0   \n",
       "2018-07-31 00:00:00-04:00  106.11  106.1756  106.050  106.06  4704161.0   \n",
       "2018-08-01 00:00:00-04:00  105.55  105.7600  105.512  105.69  3896190.0   \n",
       "2018-08-02 00:00:00-04:00  105.76  105.7600  105.650  105.73  2989387.0   \n",
       "2018-08-03 00:00:00-04:00  105.81  105.9799  105.810  105.93  2286629.0   \n",
       "\n",
       "                                           SPY                            \\\n",
       "                          daily_return    open    high       low   close   \n",
       "time                                                                       \n",
       "2018-07-30 00:00:00-04:00          NaN  281.49  281.69  279.3600  279.89   \n",
       "2018-07-31 00:00:00-04:00     0.001038  280.81  282.02  280.3800  281.22   \n",
       "2018-08-01 00:00:00-04:00    -0.003489  281.56  282.13  280.1315  280.92   \n",
       "2018-08-02 00:00:00-04:00     0.000378  279.38  282.58  279.1600  282.34   \n",
       "2018-08-03 00:00:00-04:00     0.001892  282.53  283.65  282.3300  283.64   \n",
       "\n",
       "                                                  \n",
       "                             volume daily_return  \n",
       "time                                              \n",
       "2018-07-30 00:00:00-04:00  46935673          NaN  \n",
       "2018-07-31 00:00:00-04:00  48645613     0.004752  \n",
       "2018-08-01 00:00:00-04:00  40627557    -0.001067  \n",
       "2018-08-02 00:00:00-04:00  42491022     0.005055  \n",
       "2018-08-03 00:00:00-04:00  34485363     0.004604  "
      ]
     },
     "execution_count": 154,
     "metadata": {},
     "output_type": "execute_result"
    }
   ],
   "source": [
    "# Configure the Monte Carlo simulation to forecast 30 years cumulative returns\n",
    "# The weights should be split 40% to AGG and 60% to SPY.\n",
    "# Run 500 samples.\n",
    "mc_thirty_year = MCSimulation (portfolio_data = df_portfolio, weights = [.60, .40], num_simulation = 500, num_trading_days = (252*30))\n",
    "\n",
    "# Review the simulation input data\n",
    "mc_thirty_year.portfolio_data.head()\n"
   ]
  },
  {
   "cell_type": "code",
   "execution_count": 155,
   "metadata": {},
   "outputs": [
    {
     "name": "stdout",
     "output_type": "stream",
     "text": [
      "Running Monte Carlo simulation number 0.\n",
      "Running Monte Carlo simulation number 10.\n",
      "Running Monte Carlo simulation number 20.\n",
      "Running Monte Carlo simulation number 30.\n",
      "Running Monte Carlo simulation number 40.\n",
      "Running Monte Carlo simulation number 50.\n",
      "Running Monte Carlo simulation number 60.\n",
      "Running Monte Carlo simulation number 70.\n",
      "Running Monte Carlo simulation number 80.\n",
      "Running Monte Carlo simulation number 90.\n",
      "Running Monte Carlo simulation number 100.\n",
      "Running Monte Carlo simulation number 110.\n",
      "Running Monte Carlo simulation number 120.\n",
      "Running Monte Carlo simulation number 130.\n",
      "Running Monte Carlo simulation number 140.\n",
      "Running Monte Carlo simulation number 150.\n",
      "Running Monte Carlo simulation number 160.\n",
      "Running Monte Carlo simulation number 170.\n",
      "Running Monte Carlo simulation number 180.\n",
      "Running Monte Carlo simulation number 190.\n",
      "Running Monte Carlo simulation number 200.\n",
      "Running Monte Carlo simulation number 210.\n",
      "Running Monte Carlo simulation number 220.\n",
      "Running Monte Carlo simulation number 230.\n",
      "Running Monte Carlo simulation number 240.\n",
      "Running Monte Carlo simulation number 250.\n",
      "Running Monte Carlo simulation number 260.\n",
      "Running Monte Carlo simulation number 270.\n",
      "Running Monte Carlo simulation number 280.\n",
      "Running Monte Carlo simulation number 290.\n",
      "Running Monte Carlo simulation number 300.\n",
      "Running Monte Carlo simulation number 310.\n",
      "Running Monte Carlo simulation number 320.\n",
      "Running Monte Carlo simulation number 330.\n",
      "Running Monte Carlo simulation number 340.\n",
      "Running Monte Carlo simulation number 350.\n",
      "Running Monte Carlo simulation number 360.\n",
      "Running Monte Carlo simulation number 370.\n",
      "Running Monte Carlo simulation number 380.\n",
      "Running Monte Carlo simulation number 390.\n",
      "Running Monte Carlo simulation number 400.\n",
      "Running Monte Carlo simulation number 410.\n",
      "Running Monte Carlo simulation number 420.\n",
      "Running Monte Carlo simulation number 430.\n",
      "Running Monte Carlo simulation number 440.\n",
      "Running Monte Carlo simulation number 450.\n",
      "Running Monte Carlo simulation number 460.\n",
      "Running Monte Carlo simulation number 470.\n",
      "Running Monte Carlo simulation number 480.\n",
      "Running Monte Carlo simulation number 490.\n"
     ]
    },
    {
     "data": {
      "text/html": [
       "<div>\n",
       "<style scoped>\n",
       "    .dataframe tbody tr th:only-of-type {\n",
       "        vertical-align: middle;\n",
       "    }\n",
       "\n",
       "    .dataframe tbody tr th {\n",
       "        vertical-align: top;\n",
       "    }\n",
       "\n",
       "    .dataframe thead th {\n",
       "        text-align: right;\n",
       "    }\n",
       "</style>\n",
       "<table border=\"1\" class=\"dataframe\">\n",
       "  <thead>\n",
       "    <tr style=\"text-align: right;\">\n",
       "      <th></th>\n",
       "      <th>0</th>\n",
       "      <th>1</th>\n",
       "      <th>2</th>\n",
       "      <th>3</th>\n",
       "      <th>4</th>\n",
       "      <th>5</th>\n",
       "      <th>6</th>\n",
       "      <th>7</th>\n",
       "      <th>8</th>\n",
       "      <th>9</th>\n",
       "      <th>...</th>\n",
       "      <th>490</th>\n",
       "      <th>491</th>\n",
       "      <th>492</th>\n",
       "      <th>493</th>\n",
       "      <th>494</th>\n",
       "      <th>495</th>\n",
       "      <th>496</th>\n",
       "      <th>497</th>\n",
       "      <th>498</th>\n",
       "      <th>499</th>\n",
       "    </tr>\n",
       "  </thead>\n",
       "  <tbody>\n",
       "    <tr>\n",
       "      <th>0</th>\n",
       "      <td>1.000000</td>\n",
       "      <td>1.000000</td>\n",
       "      <td>1.000000</td>\n",
       "      <td>1.000000</td>\n",
       "      <td>1.000000</td>\n",
       "      <td>1.000000</td>\n",
       "      <td>1.000000</td>\n",
       "      <td>1.000000</td>\n",
       "      <td>1.000000</td>\n",
       "      <td>1.000000</td>\n",
       "      <td>...</td>\n",
       "      <td>1.000000</td>\n",
       "      <td>1.000000</td>\n",
       "      <td>1.000000</td>\n",
       "      <td>1.000000</td>\n",
       "      <td>1.000000</td>\n",
       "      <td>1.000000</td>\n",
       "      <td>1.000000</td>\n",
       "      <td>1.000000</td>\n",
       "      <td>1.000000</td>\n",
       "      <td>1.000000</td>\n",
       "    </tr>\n",
       "    <tr>\n",
       "      <th>1</th>\n",
       "      <td>1.006221</td>\n",
       "      <td>1.003332</td>\n",
       "      <td>0.991748</td>\n",
       "      <td>1.002059</td>\n",
       "      <td>1.001364</td>\n",
       "      <td>0.993705</td>\n",
       "      <td>1.007143</td>\n",
       "      <td>1.003402</td>\n",
       "      <td>1.002006</td>\n",
       "      <td>1.000035</td>\n",
       "      <td>...</td>\n",
       "      <td>1.010285</td>\n",
       "      <td>1.000048</td>\n",
       "      <td>1.000408</td>\n",
       "      <td>0.999681</td>\n",
       "      <td>1.006952</td>\n",
       "      <td>0.999290</td>\n",
       "      <td>0.995356</td>\n",
       "      <td>0.994189</td>\n",
       "      <td>1.001053</td>\n",
       "      <td>0.997512</td>\n",
       "    </tr>\n",
       "    <tr>\n",
       "      <th>2</th>\n",
       "      <td>1.001310</td>\n",
       "      <td>0.996721</td>\n",
       "      <td>1.002095</td>\n",
       "      <td>0.983199</td>\n",
       "      <td>0.997480</td>\n",
       "      <td>0.994077</td>\n",
       "      <td>1.015885</td>\n",
       "      <td>1.003590</td>\n",
       "      <td>0.996310</td>\n",
       "      <td>1.008161</td>\n",
       "      <td>...</td>\n",
       "      <td>1.006374</td>\n",
       "      <td>0.994690</td>\n",
       "      <td>0.995792</td>\n",
       "      <td>0.997721</td>\n",
       "      <td>1.018085</td>\n",
       "      <td>0.989813</td>\n",
       "      <td>0.997917</td>\n",
       "      <td>0.993940</td>\n",
       "      <td>0.992543</td>\n",
       "      <td>0.989013</td>\n",
       "    </tr>\n",
       "    <tr>\n",
       "      <th>3</th>\n",
       "      <td>1.002226</td>\n",
       "      <td>0.989774</td>\n",
       "      <td>1.015258</td>\n",
       "      <td>0.975309</td>\n",
       "      <td>0.997758</td>\n",
       "      <td>0.997729</td>\n",
       "      <td>1.014494</td>\n",
       "      <td>1.017007</td>\n",
       "      <td>0.998364</td>\n",
       "      <td>1.015698</td>\n",
       "      <td>...</td>\n",
       "      <td>1.005723</td>\n",
       "      <td>0.998270</td>\n",
       "      <td>1.000738</td>\n",
       "      <td>0.990750</td>\n",
       "      <td>1.017126</td>\n",
       "      <td>0.991435</td>\n",
       "      <td>0.995518</td>\n",
       "      <td>0.998948</td>\n",
       "      <td>1.005062</td>\n",
       "      <td>0.990491</td>\n",
       "    </tr>\n",
       "    <tr>\n",
       "      <th>4</th>\n",
       "      <td>1.000985</td>\n",
       "      <td>1.001968</td>\n",
       "      <td>1.011465</td>\n",
       "      <td>0.980677</td>\n",
       "      <td>0.997497</td>\n",
       "      <td>1.000154</td>\n",
       "      <td>1.012769</td>\n",
       "      <td>1.024081</td>\n",
       "      <td>0.996105</td>\n",
       "      <td>1.021379</td>\n",
       "      <td>...</td>\n",
       "      <td>1.010358</td>\n",
       "      <td>0.994083</td>\n",
       "      <td>1.002460</td>\n",
       "      <td>0.991688</td>\n",
       "      <td>1.021324</td>\n",
       "      <td>0.993419</td>\n",
       "      <td>0.993580</td>\n",
       "      <td>0.998993</td>\n",
       "      <td>1.001864</td>\n",
       "      <td>0.988840</td>\n",
       "    </tr>\n",
       "    <tr>\n",
       "      <th>...</th>\n",
       "      <td>...</td>\n",
       "      <td>...</td>\n",
       "      <td>...</td>\n",
       "      <td>...</td>\n",
       "      <td>...</td>\n",
       "      <td>...</td>\n",
       "      <td>...</td>\n",
       "      <td>...</td>\n",
       "      <td>...</td>\n",
       "      <td>...</td>\n",
       "      <td>...</td>\n",
       "      <td>...</td>\n",
       "      <td>...</td>\n",
       "      <td>...</td>\n",
       "      <td>...</td>\n",
       "      <td>...</td>\n",
       "      <td>...</td>\n",
       "      <td>...</td>\n",
       "      <td>...</td>\n",
       "      <td>...</td>\n",
       "      <td>...</td>\n",
       "    </tr>\n",
       "    <tr>\n",
       "      <th>7556</th>\n",
       "      <td>5.569325</td>\n",
       "      <td>9.673499</td>\n",
       "      <td>17.281291</td>\n",
       "      <td>9.957531</td>\n",
       "      <td>40.020287</td>\n",
       "      <td>9.890381</td>\n",
       "      <td>28.301685</td>\n",
       "      <td>12.184043</td>\n",
       "      <td>17.671537</td>\n",
       "      <td>24.643027</td>\n",
       "      <td>...</td>\n",
       "      <td>35.836825</td>\n",
       "      <td>38.771449</td>\n",
       "      <td>5.838656</td>\n",
       "      <td>11.661348</td>\n",
       "      <td>18.678492</td>\n",
       "      <td>19.663929</td>\n",
       "      <td>13.178974</td>\n",
       "      <td>11.180918</td>\n",
       "      <td>7.363677</td>\n",
       "      <td>3.905479</td>\n",
       "    </tr>\n",
       "    <tr>\n",
       "      <th>7557</th>\n",
       "      <td>5.615165</td>\n",
       "      <td>9.724211</td>\n",
       "      <td>17.296695</td>\n",
       "      <td>9.994168</td>\n",
       "      <td>39.976978</td>\n",
       "      <td>9.808924</td>\n",
       "      <td>28.099443</td>\n",
       "      <td>12.324577</td>\n",
       "      <td>17.737711</td>\n",
       "      <td>24.814880</td>\n",
       "      <td>...</td>\n",
       "      <td>36.059977</td>\n",
       "      <td>38.918667</td>\n",
       "      <td>5.873738</td>\n",
       "      <td>11.701981</td>\n",
       "      <td>18.792606</td>\n",
       "      <td>19.657187</td>\n",
       "      <td>13.122265</td>\n",
       "      <td>11.083421</td>\n",
       "      <td>7.319130</td>\n",
       "      <td>3.922929</td>\n",
       "    </tr>\n",
       "    <tr>\n",
       "      <th>7558</th>\n",
       "      <td>5.618532</td>\n",
       "      <td>9.711790</td>\n",
       "      <td>17.296935</td>\n",
       "      <td>10.065493</td>\n",
       "      <td>40.500193</td>\n",
       "      <td>9.774336</td>\n",
       "      <td>28.196090</td>\n",
       "      <td>12.330031</td>\n",
       "      <td>17.680159</td>\n",
       "      <td>24.877536</td>\n",
       "      <td>...</td>\n",
       "      <td>35.843479</td>\n",
       "      <td>39.265534</td>\n",
       "      <td>5.918305</td>\n",
       "      <td>11.776233</td>\n",
       "      <td>18.651585</td>\n",
       "      <td>19.691529</td>\n",
       "      <td>13.020886</td>\n",
       "      <td>11.130017</td>\n",
       "      <td>7.333917</td>\n",
       "      <td>3.920855</td>\n",
       "    </tr>\n",
       "    <tr>\n",
       "      <th>7559</th>\n",
       "      <td>5.568817</td>\n",
       "      <td>9.792510</td>\n",
       "      <td>17.350534</td>\n",
       "      <td>10.099475</td>\n",
       "      <td>40.609754</td>\n",
       "      <td>9.889217</td>\n",
       "      <td>28.248308</td>\n",
       "      <td>12.326131</td>\n",
       "      <td>17.870515</td>\n",
       "      <td>25.272321</td>\n",
       "      <td>...</td>\n",
       "      <td>35.862730</td>\n",
       "      <td>39.204614</td>\n",
       "      <td>5.904238</td>\n",
       "      <td>11.769855</td>\n",
       "      <td>18.587931</td>\n",
       "      <td>19.461844</td>\n",
       "      <td>13.026291</td>\n",
       "      <td>11.173368</td>\n",
       "      <td>7.345972</td>\n",
       "      <td>3.878953</td>\n",
       "    </tr>\n",
       "    <tr>\n",
       "      <th>7560</th>\n",
       "      <td>5.545495</td>\n",
       "      <td>9.770517</td>\n",
       "      <td>17.376491</td>\n",
       "      <td>10.038785</td>\n",
       "      <td>40.821106</td>\n",
       "      <td>9.911451</td>\n",
       "      <td>28.171506</td>\n",
       "      <td>12.302886</td>\n",
       "      <td>17.881875</td>\n",
       "      <td>25.326040</td>\n",
       "      <td>...</td>\n",
       "      <td>35.551073</td>\n",
       "      <td>38.698576</td>\n",
       "      <td>5.896286</td>\n",
       "      <td>11.747964</td>\n",
       "      <td>18.476689</td>\n",
       "      <td>19.551032</td>\n",
       "      <td>13.022360</td>\n",
       "      <td>11.178428</td>\n",
       "      <td>7.344505</td>\n",
       "      <td>3.851762</td>\n",
       "    </tr>\n",
       "  </tbody>\n",
       "</table>\n",
       "<p>7561 rows × 500 columns</p>\n",
       "</div>"
      ],
      "text/plain": [
       "           0         1          2          3          4         5    \\\n",
       "0     1.000000  1.000000   1.000000   1.000000   1.000000  1.000000   \n",
       "1     1.006221  1.003332   0.991748   1.002059   1.001364  0.993705   \n",
       "2     1.001310  0.996721   1.002095   0.983199   0.997480  0.994077   \n",
       "3     1.002226  0.989774   1.015258   0.975309   0.997758  0.997729   \n",
       "4     1.000985  1.001968   1.011465   0.980677   0.997497  1.000154   \n",
       "...        ...       ...        ...        ...        ...       ...   \n",
       "7556  5.569325  9.673499  17.281291   9.957531  40.020287  9.890381   \n",
       "7557  5.615165  9.724211  17.296695   9.994168  39.976978  9.808924   \n",
       "7558  5.618532  9.711790  17.296935  10.065493  40.500193  9.774336   \n",
       "7559  5.568817  9.792510  17.350534  10.099475  40.609754  9.889217   \n",
       "7560  5.545495  9.770517  17.376491  10.038785  40.821106  9.911451   \n",
       "\n",
       "            6          7          8          9    ...        490        491  \\\n",
       "0      1.000000   1.000000   1.000000   1.000000  ...   1.000000   1.000000   \n",
       "1      1.007143   1.003402   1.002006   1.000035  ...   1.010285   1.000048   \n",
       "2      1.015885   1.003590   0.996310   1.008161  ...   1.006374   0.994690   \n",
       "3      1.014494   1.017007   0.998364   1.015698  ...   1.005723   0.998270   \n",
       "4      1.012769   1.024081   0.996105   1.021379  ...   1.010358   0.994083   \n",
       "...         ...        ...        ...        ...  ...        ...        ...   \n",
       "7556  28.301685  12.184043  17.671537  24.643027  ...  35.836825  38.771449   \n",
       "7557  28.099443  12.324577  17.737711  24.814880  ...  36.059977  38.918667   \n",
       "7558  28.196090  12.330031  17.680159  24.877536  ...  35.843479  39.265534   \n",
       "7559  28.248308  12.326131  17.870515  25.272321  ...  35.862730  39.204614   \n",
       "7560  28.171506  12.302886  17.881875  25.326040  ...  35.551073  38.698576   \n",
       "\n",
       "           492        493        494        495        496        497  \\\n",
       "0     1.000000   1.000000   1.000000   1.000000   1.000000   1.000000   \n",
       "1     1.000408   0.999681   1.006952   0.999290   0.995356   0.994189   \n",
       "2     0.995792   0.997721   1.018085   0.989813   0.997917   0.993940   \n",
       "3     1.000738   0.990750   1.017126   0.991435   0.995518   0.998948   \n",
       "4     1.002460   0.991688   1.021324   0.993419   0.993580   0.998993   \n",
       "...        ...        ...        ...        ...        ...        ...   \n",
       "7556  5.838656  11.661348  18.678492  19.663929  13.178974  11.180918   \n",
       "7557  5.873738  11.701981  18.792606  19.657187  13.122265  11.083421   \n",
       "7558  5.918305  11.776233  18.651585  19.691529  13.020886  11.130017   \n",
       "7559  5.904238  11.769855  18.587931  19.461844  13.026291  11.173368   \n",
       "7560  5.896286  11.747964  18.476689  19.551032  13.022360  11.178428   \n",
       "\n",
       "           498       499  \n",
       "0     1.000000  1.000000  \n",
       "1     1.001053  0.997512  \n",
       "2     0.992543  0.989013  \n",
       "3     1.005062  0.990491  \n",
       "4     1.001864  0.988840  \n",
       "...        ...       ...  \n",
       "7556  7.363677  3.905479  \n",
       "7557  7.319130  3.922929  \n",
       "7558  7.333917  3.920855  \n",
       "7559  7.345972  3.878953  \n",
       "7560  7.344505  3.851762  \n",
       "\n",
       "[7561 rows x 500 columns]"
      ]
     },
     "execution_count": 155,
     "metadata": {},
     "output_type": "execute_result"
    }
   ],
   "source": [
    "# Run the Monte Carlo simulation to forecast 30 years cumulative returns\n",
    "mc_thirty_year.calc_cumulative_return()\n"
   ]
  },
  {
   "cell_type": "code",
   "execution_count": 156,
   "metadata": {},
   "outputs": [
    {
     "data": {
      "image/png": "[encoded data removed]",
      "text/plain": [
       "<Figure size 432x288 with 1 Axes>"
      ]
     },
     "metadata": {
      "needs_background": "light"
     },
     "output_type": "display_data"
    }
   ],
   "source": [
    "# Visualize the 30-year Monte Carlo simulation by creating an\n",
    "# overlay line plot\n",
    "mc_thirty_year_plot = mc_thirty_year.plot_simulation()\n"
   ]
  },
  {
   "cell_type": "markdown",
   "metadata": {},
   "source": [
    "#### Step 3: Plot the probability distribution of the Monte Carlo simulation."
   ]
  },
  {
   "cell_type": "code",
   "execution_count": 157,
   "metadata": {},
   "outputs": [
    {
     "data": {
      "image/png": "[encoded data removed]",
      "text/plain": [
       "<Figure size 432x288 with 1 Axes>"
      ]
     },
     "metadata": {
      "needs_background": "light"
     },
     "output_type": "display_data"
    }
   ],
   "source": [
    "# Visualize the probability distribution of the 30-year Monte Carlo simulation \n",
    "# by plotting a histogram\n",
    "mc_thirty_year_distribution = mc_thirty_year.plot_distribution()\n"
   ]
  },
  {
   "cell_type": "markdown",
   "metadata": {},
   "source": [
    "#### Step 4: Generate the summary statistics for the Monte Carlo simulation."
   ]
  },
  {
   "cell_type": "code",
   "execution_count": 158,
   "metadata": {},
   "outputs": [
    {
     "data": {
      "text/plain": [
       "count           500.000000\n",
       "mean             14.827868\n",
       "std               8.591479\n",
       "min               1.878234\n",
       "25%               9.208043\n",
       "50%              13.048545\n",
       "75%              18.507379\n",
       "max              84.551692\n",
       "95% CI Lower      4.113933\n",
       "95% CI Upper     35.913215\n",
       "Name: 7560, dtype: float64"
      ]
     },
     "execution_count": 158,
     "metadata": {},
     "output_type": "execute_result"
    }
   ],
   "source": [
    "# Generate summary statistics from the 30-year Monte Carlo simulation results\n",
    "# Save the results as a variable\n",
    "mc_thirty_year_description = mc_thirty_year.summarize_cumulative_return()\n",
    "\n",
    "\n",
    "# Review the 30-year Monte Carlo summary statistics\n",
    "mc_thirty_year_description"
   ]
  },
  {
   "cell_type": "markdown",
   "metadata": {},
   "source": [
    "### Analyze the Retirement Portfolio Forecasts\n",
    "\n",
    "Using the current value of only the stock and bond portion of the member's portfolio and the summary statistics that you generated from the Monte Carlo simulation, answer the following question in your Jupyter notebook:\n",
    "\n",
    "-  What are the lower and upper bounds for the expected value of the portfolio with a 95% confidence interval?\n"
   ]
  },
  {
   "cell_type": "code",
   "execution_count": 150,
   "metadata": {},
   "outputs": [
    {
     "data": {
      "text/plain": [
       "71523.9"
      ]
     },
     "execution_count": 150,
     "metadata": {},
     "output_type": "execute_result"
    }
   ],
   "source": [
    "# Print the current balance of the stock and bond portion of the members portfolio\n",
    "total_stocks_bonds\n"
   ]
  },
  {
   "cell_type": "code",
   "execution_count": 159,
   "metadata": {},
   "outputs": [
    {
     "data": {
      "text/plain": [
       "294244.55777583725"
      ]
     },
     "metadata": {},
     "output_type": "display_data"
    },
    {
     "data": {
      "text/plain": [
       "2568653.167169265"
      ]
     },
     "metadata": {},
     "output_type": "display_data"
    }
   ],
   "source": [
    "# Use the lower and upper `95%` confidence intervals to calculate the range of the possible outcomes for the current stock/bond portfolio\n",
    "ci_lower_thirty_cumulative_return = mc_thirty_year_description[8] * total_stocks_bonds\n",
    "ci_upper_thirty_cumulative_return = mc_thirty_year_description[9] * total_stocks_bonds\n",
    "\n",
    "# Print the result of your calculations\n",
    "display(ci_lower_thirty_cumulative_return)\n",
    "display(ci_upper_thirty_cumulative_return)\n"
   ]
  },
  {
   "cell_type": "markdown",
   "metadata": {},
   "source": [
    "### Forecast Cumulative Returns in 10 Years\n",
    "\n",
    "The CTO of the credit union is impressed with your work on these planning tools but wonders if 30 years is a long time to wait until retirement. So, your next task is to adjust the retirement portfolio and run a new Monte Carlo simulation to find out if the changes will allow members to retire earlier.\n",
    "\n",
    "For this new Monte Carlo simulation, do the following: \n",
    "\n",
    "- Forecast the cumulative returns for 10 years from now. Because of the shortened investment horizon (30 years to 10 years), the portfolio needs to invest more heavily in the riskier asset&mdash;that is, stock&mdash;to help accumulate wealth for retirement. \n",
    "\n",
    "- Adjust the weights of the retirement portfolio so that the composition for the Monte Carlo simulation consists of 20% bonds and 80% stocks. \n",
    "\n",
    "- Run the simulation over 500 samples, and use the same data that the API call to Alpaca generated.\n",
    "\n",
    "- Based on the new Monte Carlo simulation, answer the following questions in your Jupyter notebook:\n",
    "\n",
    "    - Using the current value of only the stock and bond portion of the member's portfolio and the summary statistics that you generated from the new Monte Carlo simulation, what are the lower and upper bounds for the expected value of the portfolio (with the new weights) with a 95% confidence interval?\n",
    "\n",
    "    - Will weighting the portfolio more heavily toward stocks allow the credit union members to retire after only 10 years?\n"
   ]
  },
  {
   "cell_type": "code",
   "execution_count": 167,
   "metadata": {},
   "outputs": [
    {
     "data": {
      "text/html": [
       "<div>\n",
       "<style scoped>\n",
       "    .dataframe tbody tr th:only-of-type {\n",
       "        vertical-align: middle;\n",
       "    }\n",
       "\n",
       "    .dataframe tbody tr th {\n",
       "        vertical-align: top;\n",
       "    }\n",
       "\n",
       "    .dataframe thead tr th {\n",
       "        text-align: left;\n",
       "    }\n",
       "\n",
       "    .dataframe thead tr:last-of-type th {\n",
       "        text-align: right;\n",
       "    }\n",
       "</style>\n",
       "<table border=\"1\" class=\"dataframe\">\n",
       "  <thead>\n",
       "    <tr>\n",
       "      <th></th>\n",
       "      <th colspan=\"6\" halign=\"left\">AGG</th>\n",
       "      <th colspan=\"6\" halign=\"left\">SPY</th>\n",
       "    </tr>\n",
       "    <tr>\n",
       "      <th></th>\n",
       "      <th>open</th>\n",
       "      <th>high</th>\n",
       "      <th>low</th>\n",
       "      <th>close</th>\n",
       "      <th>volume</th>\n",
       "      <th>daily_return</th>\n",
       "      <th>open</th>\n",
       "      <th>high</th>\n",
       "      <th>low</th>\n",
       "      <th>close</th>\n",
       "      <th>volume</th>\n",
       "      <th>daily_return</th>\n",
       "    </tr>\n",
       "    <tr>\n",
       "      <th>time</th>\n",
       "      <th></th>\n",
       "      <th></th>\n",
       "      <th></th>\n",
       "      <th></th>\n",
       "      <th></th>\n",
       "      <th></th>\n",
       "      <th></th>\n",
       "      <th></th>\n",
       "      <th></th>\n",
       "      <th></th>\n",
       "      <th></th>\n",
       "      <th></th>\n",
       "    </tr>\n",
       "  </thead>\n",
       "  <tbody>\n",
       "    <tr>\n",
       "      <th>2018-07-30 00:00:00-04:00</th>\n",
       "      <td>105.94</td>\n",
       "      <td>106.0500</td>\n",
       "      <td>105.910</td>\n",
       "      <td>105.95</td>\n",
       "      <td>2784448.0</td>\n",
       "      <td>NaN</td>\n",
       "      <td>281.49</td>\n",
       "      <td>281.69</td>\n",
       "      <td>279.3600</td>\n",
       "      <td>279.89</td>\n",
       "      <td>46935673</td>\n",
       "      <td>NaN</td>\n",
       "    </tr>\n",
       "    <tr>\n",
       "      <th>2018-07-31 00:00:00-04:00</th>\n",
       "      <td>106.11</td>\n",
       "      <td>106.1756</td>\n",
       "      <td>106.050</td>\n",
       "      <td>106.06</td>\n",
       "      <td>4704161.0</td>\n",
       "      <td>0.001038</td>\n",
       "      <td>280.81</td>\n",
       "      <td>282.02</td>\n",
       "      <td>280.3800</td>\n",
       "      <td>281.22</td>\n",
       "      <td>48645613</td>\n",
       "      <td>0.004752</td>\n",
       "    </tr>\n",
       "    <tr>\n",
       "      <th>2018-08-01 00:00:00-04:00</th>\n",
       "      <td>105.55</td>\n",
       "      <td>105.7600</td>\n",
       "      <td>105.512</td>\n",
       "      <td>105.69</td>\n",
       "      <td>3896190.0</td>\n",
       "      <td>-0.003489</td>\n",
       "      <td>281.56</td>\n",
       "      <td>282.13</td>\n",
       "      <td>280.1315</td>\n",
       "      <td>280.92</td>\n",
       "      <td>40627557</td>\n",
       "      <td>-0.001067</td>\n",
       "    </tr>\n",
       "    <tr>\n",
       "      <th>2018-08-02 00:00:00-04:00</th>\n",
       "      <td>105.76</td>\n",
       "      <td>105.7600</td>\n",
       "      <td>105.650</td>\n",
       "      <td>105.73</td>\n",
       "      <td>2989387.0</td>\n",
       "      <td>0.000378</td>\n",
       "      <td>279.38</td>\n",
       "      <td>282.58</td>\n",
       "      <td>279.1600</td>\n",
       "      <td>282.34</td>\n",
       "      <td>42491022</td>\n",
       "      <td>0.005055</td>\n",
       "    </tr>\n",
       "    <tr>\n",
       "      <th>2018-08-03 00:00:00-04:00</th>\n",
       "      <td>105.81</td>\n",
       "      <td>105.9799</td>\n",
       "      <td>105.810</td>\n",
       "      <td>105.93</td>\n",
       "      <td>2286629.0</td>\n",
       "      <td>0.001892</td>\n",
       "      <td>282.53</td>\n",
       "      <td>283.65</td>\n",
       "      <td>282.3300</td>\n",
       "      <td>283.64</td>\n",
       "      <td>34485363</td>\n",
       "      <td>0.004604</td>\n",
       "    </tr>\n",
       "  </tbody>\n",
       "</table>\n",
       "</div>"
      ],
      "text/plain": [
       "                              AGG                                        \\\n",
       "                             open      high      low   close     volume   \n",
       "time                                                                      \n",
       "2018-07-30 00:00:00-04:00  105.94  106.0500  105.910  105.95  2784448.0   \n",
       "2018-07-31 00:00:00-04:00  106.11  106.1756  106.050  106.06  4704161.0   \n",
       "2018-08-01 00:00:00-04:00  105.55  105.7600  105.512  105.69  3896190.0   \n",
       "2018-08-02 00:00:00-04:00  105.76  105.7600  105.650  105.73  2989387.0   \n",
       "2018-08-03 00:00:00-04:00  105.81  105.9799  105.810  105.93  2286629.0   \n",
       "\n",
       "                                           SPY                            \\\n",
       "                          daily_return    open    high       low   close   \n",
       "time                                                                       \n",
       "2018-07-30 00:00:00-04:00          NaN  281.49  281.69  279.3600  279.89   \n",
       "2018-07-31 00:00:00-04:00     0.001038  280.81  282.02  280.3800  281.22   \n",
       "2018-08-01 00:00:00-04:00    -0.003489  281.56  282.13  280.1315  280.92   \n",
       "2018-08-02 00:00:00-04:00     0.000378  279.38  282.58  279.1600  282.34   \n",
       "2018-08-03 00:00:00-04:00     0.001892  282.53  283.65  282.3300  283.64   \n",
       "\n",
       "                                                  \n",
       "                             volume daily_return  \n",
       "time                                              \n",
       "2018-07-30 00:00:00-04:00  46935673          NaN  \n",
       "2018-07-31 00:00:00-04:00  48645613     0.004752  \n",
       "2018-08-01 00:00:00-04:00  40627557    -0.001067  \n",
       "2018-08-02 00:00:00-04:00  42491022     0.005055  \n",
       "2018-08-03 00:00:00-04:00  34485363     0.004604  "
      ]
     },
     "execution_count": 167,
     "metadata": {},
     "output_type": "execute_result"
    }
   ],
   "source": [
    "# Configure a Monte Carlo simulation to forecast 10 years cumulative returns\n",
    "# The weights should be split 20% to AGG and 80% to SPY.\n",
    "# Run 500 samples.\n",
    "mc_ten_year = MCSimulation (portfolio_data = df_portfolio, weights = [.20, .80], num_simulation = 500, num_trading_days = (252*10))\n",
    "\n",
    "# Review the simulation input data\n",
    "mc_ten_year.portfolio_data.head()"
   ]
  },
  {
   "cell_type": "code",
   "execution_count": 168,
   "metadata": {},
   "outputs": [
    {
     "name": "stdout",
     "output_type": "stream",
     "text": [
      "Running Monte Carlo simulation number 0.\n",
      "Running Monte Carlo simulation number 10.\n",
      "Running Monte Carlo simulation number 20.\n",
      "Running Monte Carlo simulation number 30.\n",
      "Running Monte Carlo simulation number 40.\n",
      "Running Monte Carlo simulation number 50.\n",
      "Running Monte Carlo simulation number 60.\n",
      "Running Monte Carlo simulation number 70.\n",
      "Running Monte Carlo simulation number 80.\n",
      "Running Monte Carlo simulation number 90.\n",
      "Running Monte Carlo simulation number 100.\n",
      "Running Monte Carlo simulation number 110.\n",
      "Running Monte Carlo simulation number 120.\n",
      "Running Monte Carlo simulation number 130.\n",
      "Running Monte Carlo simulation number 140.\n",
      "Running Monte Carlo simulation number 150.\n",
      "Running Monte Carlo simulation number 160.\n",
      "Running Monte Carlo simulation number 170.\n",
      "Running Monte Carlo simulation number 180.\n",
      "Running Monte Carlo simulation number 190.\n",
      "Running Monte Carlo simulation number 200.\n",
      "Running Monte Carlo simulation number 210.\n",
      "Running Monte Carlo simulation number 220.\n",
      "Running Monte Carlo simulation number 230.\n",
      "Running Monte Carlo simulation number 240.\n",
      "Running Monte Carlo simulation number 250.\n",
      "Running Monte Carlo simulation number 260.\n",
      "Running Monte Carlo simulation number 270.\n",
      "Running Monte Carlo simulation number 280.\n",
      "Running Monte Carlo simulation number 290.\n",
      "Running Monte Carlo simulation number 300.\n",
      "Running Monte Carlo simulation number 310.\n",
      "Running Monte Carlo simulation number 320.\n",
      "Running Monte Carlo simulation number 330.\n",
      "Running Monte Carlo simulation number 340.\n",
      "Running Monte Carlo simulation number 350.\n",
      "Running Monte Carlo simulation number 360.\n",
      "Running Monte Carlo simulation number 370.\n",
      "Running Monte Carlo simulation number 380.\n",
      "Running Monte Carlo simulation number 390.\n",
      "Running Monte Carlo simulation number 400.\n",
      "Running Monte Carlo simulation number 410.\n",
      "Running Monte Carlo simulation number 420.\n",
      "Running Monte Carlo simulation number 430.\n",
      "Running Monte Carlo simulation number 440.\n",
      "Running Monte Carlo simulation number 450.\n",
      "Running Monte Carlo simulation number 460.\n",
      "Running Monte Carlo simulation number 470.\n",
      "Running Monte Carlo simulation number 480.\n",
      "Running Monte Carlo simulation number 490.\n"
     ]
    },
    {
     "data": {
      "text/html": [
       "<div>\n",
       "<style scoped>\n",
       "    .dataframe tbody tr th:only-of-type {\n",
       "        vertical-align: middle;\n",
       "    }\n",
       "\n",
       "    .dataframe tbody tr th {\n",
       "        vertical-align: top;\n",
       "    }\n",
       "\n",
       "    .dataframe thead th {\n",
       "        text-align: right;\n",
       "    }\n",
       "</style>\n",
       "<table border=\"1\" class=\"dataframe\">\n",
       "  <thead>\n",
       "    <tr style=\"text-align: right;\">\n",
       "      <th></th>\n",
       "      <th>0</th>\n",
       "      <th>1</th>\n",
       "      <th>2</th>\n",
       "      <th>3</th>\n",
       "      <th>4</th>\n",
       "      <th>5</th>\n",
       "      <th>6</th>\n",
       "      <th>7</th>\n",
       "      <th>8</th>\n",
       "      <th>9</th>\n",
       "      <th>...</th>\n",
       "      <th>490</th>\n",
       "      <th>491</th>\n",
       "      <th>492</th>\n",
       "      <th>493</th>\n",
       "      <th>494</th>\n",
       "      <th>495</th>\n",
       "      <th>496</th>\n",
       "      <th>497</th>\n",
       "      <th>498</th>\n",
       "      <th>499</th>\n",
       "    </tr>\n",
       "  </thead>\n",
       "  <tbody>\n",
       "    <tr>\n",
       "      <th>0</th>\n",
       "      <td>1.000000</td>\n",
       "      <td>1.000000</td>\n",
       "      <td>1.000000</td>\n",
       "      <td>1.000000</td>\n",
       "      <td>1.000000</td>\n",
       "      <td>1.000000</td>\n",
       "      <td>1.000000</td>\n",
       "      <td>1.000000</td>\n",
       "      <td>1.000000</td>\n",
       "      <td>1.000000</td>\n",
       "      <td>...</td>\n",
       "      <td>1.000000</td>\n",
       "      <td>1.000000</td>\n",
       "      <td>1.000000</td>\n",
       "      <td>1.000000</td>\n",
       "      <td>1.000000</td>\n",
       "      <td>1.000000</td>\n",
       "      <td>1.000000</td>\n",
       "      <td>1.000000</td>\n",
       "      <td>1.000000</td>\n",
       "      <td>1.000000</td>\n",
       "    </tr>\n",
       "    <tr>\n",
       "      <th>1</th>\n",
       "      <td>0.992364</td>\n",
       "      <td>1.006498</td>\n",
       "      <td>0.995655</td>\n",
       "      <td>1.008427</td>\n",
       "      <td>0.991400</td>\n",
       "      <td>0.986355</td>\n",
       "      <td>1.002116</td>\n",
       "      <td>1.000087</td>\n",
       "      <td>1.019985</td>\n",
       "      <td>0.998719</td>\n",
       "      <td>...</td>\n",
       "      <td>1.003336</td>\n",
       "      <td>0.980135</td>\n",
       "      <td>0.998386</td>\n",
       "      <td>1.012497</td>\n",
       "      <td>0.986148</td>\n",
       "      <td>0.987846</td>\n",
       "      <td>0.999896</td>\n",
       "      <td>0.995067</td>\n",
       "      <td>1.010818</td>\n",
       "      <td>0.999615</td>\n",
       "    </tr>\n",
       "    <tr>\n",
       "      <th>2</th>\n",
       "      <td>0.996420</td>\n",
       "      <td>1.031057</td>\n",
       "      <td>1.004709</td>\n",
       "      <td>1.024456</td>\n",
       "      <td>0.979561</td>\n",
       "      <td>0.991557</td>\n",
       "      <td>1.023429</td>\n",
       "      <td>0.991202</td>\n",
       "      <td>1.017252</td>\n",
       "      <td>1.006247</td>\n",
       "      <td>...</td>\n",
       "      <td>1.011622</td>\n",
       "      <td>0.981737</td>\n",
       "      <td>1.001240</td>\n",
       "      <td>1.017937</td>\n",
       "      <td>0.973631</td>\n",
       "      <td>0.969493</td>\n",
       "      <td>0.991760</td>\n",
       "      <td>0.991414</td>\n",
       "      <td>1.003975</td>\n",
       "      <td>1.009585</td>\n",
       "    </tr>\n",
       "    <tr>\n",
       "      <th>3</th>\n",
       "      <td>0.987107</td>\n",
       "      <td>1.025950</td>\n",
       "      <td>1.010020</td>\n",
       "      <td>1.027459</td>\n",
       "      <td>0.989354</td>\n",
       "      <td>0.983171</td>\n",
       "      <td>1.033388</td>\n",
       "      <td>1.000736</td>\n",
       "      <td>1.009347</td>\n",
       "      <td>0.994052</td>\n",
       "      <td>...</td>\n",
       "      <td>0.999532</td>\n",
       "      <td>0.976059</td>\n",
       "      <td>1.015138</td>\n",
       "      <td>1.012275</td>\n",
       "      <td>0.971678</td>\n",
       "      <td>0.968507</td>\n",
       "      <td>1.011712</td>\n",
       "      <td>0.987915</td>\n",
       "      <td>1.014471</td>\n",
       "      <td>1.001234</td>\n",
       "    </tr>\n",
       "    <tr>\n",
       "      <th>4</th>\n",
       "      <td>0.983750</td>\n",
       "      <td>1.046068</td>\n",
       "      <td>1.005601</td>\n",
       "      <td>1.014975</td>\n",
       "      <td>0.984264</td>\n",
       "      <td>0.965875</td>\n",
       "      <td>1.031604</td>\n",
       "      <td>1.016272</td>\n",
       "      <td>1.019748</td>\n",
       "      <td>0.985256</td>\n",
       "      <td>...</td>\n",
       "      <td>0.994308</td>\n",
       "      <td>0.982607</td>\n",
       "      <td>1.023509</td>\n",
       "      <td>1.000413</td>\n",
       "      <td>0.966735</td>\n",
       "      <td>0.964675</td>\n",
       "      <td>1.003168</td>\n",
       "      <td>0.983248</td>\n",
       "      <td>1.004459</td>\n",
       "      <td>1.010328</td>\n",
       "    </tr>\n",
       "    <tr>\n",
       "      <th>...</th>\n",
       "      <td>...</td>\n",
       "      <td>...</td>\n",
       "      <td>...</td>\n",
       "      <td>...</td>\n",
       "      <td>...</td>\n",
       "      <td>...</td>\n",
       "      <td>...</td>\n",
       "      <td>...</td>\n",
       "      <td>...</td>\n",
       "      <td>...</td>\n",
       "      <td>...</td>\n",
       "      <td>...</td>\n",
       "      <td>...</td>\n",
       "      <td>...</td>\n",
       "      <td>...</td>\n",
       "      <td>...</td>\n",
       "      <td>...</td>\n",
       "      <td>...</td>\n",
       "      <td>...</td>\n",
       "      <td>...</td>\n",
       "      <td>...</td>\n",
       "    </tr>\n",
       "    <tr>\n",
       "      <th>2516</th>\n",
       "      <td>12.276237</td>\n",
       "      <td>5.715817</td>\n",
       "      <td>5.314232</td>\n",
       "      <td>6.868787</td>\n",
       "      <td>6.115701</td>\n",
       "      <td>4.677888</td>\n",
       "      <td>5.783509</td>\n",
       "      <td>1.957759</td>\n",
       "      <td>3.880224</td>\n",
       "      <td>3.167259</td>\n",
       "      <td>...</td>\n",
       "      <td>3.087340</td>\n",
       "      <td>5.274581</td>\n",
       "      <td>7.021012</td>\n",
       "      <td>5.496711</td>\n",
       "      <td>2.624284</td>\n",
       "      <td>3.668912</td>\n",
       "      <td>7.177744</td>\n",
       "      <td>5.419437</td>\n",
       "      <td>9.923460</td>\n",
       "      <td>3.961622</td>\n",
       "    </tr>\n",
       "    <tr>\n",
       "      <th>2517</th>\n",
       "      <td>12.042424</td>\n",
       "      <td>5.610953</td>\n",
       "      <td>5.203102</td>\n",
       "      <td>6.792263</td>\n",
       "      <td>6.055746</td>\n",
       "      <td>4.675207</td>\n",
       "      <td>5.889675</td>\n",
       "      <td>1.930533</td>\n",
       "      <td>3.881114</td>\n",
       "      <td>3.148590</td>\n",
       "      <td>...</td>\n",
       "      <td>3.028317</td>\n",
       "      <td>5.343451</td>\n",
       "      <td>7.016756</td>\n",
       "      <td>5.530943</td>\n",
       "      <td>2.630940</td>\n",
       "      <td>3.626051</td>\n",
       "      <td>7.225205</td>\n",
       "      <td>5.378087</td>\n",
       "      <td>9.942612</td>\n",
       "      <td>4.014543</td>\n",
       "    </tr>\n",
       "    <tr>\n",
       "      <th>2518</th>\n",
       "      <td>12.056597</td>\n",
       "      <td>5.720415</td>\n",
       "      <td>5.121482</td>\n",
       "      <td>6.775787</td>\n",
       "      <td>6.077649</td>\n",
       "      <td>4.748474</td>\n",
       "      <td>5.723060</td>\n",
       "      <td>1.929177</td>\n",
       "      <td>3.821224</td>\n",
       "      <td>3.115308</td>\n",
       "      <td>...</td>\n",
       "      <td>3.012688</td>\n",
       "      <td>5.350346</td>\n",
       "      <td>7.025248</td>\n",
       "      <td>5.481710</td>\n",
       "      <td>2.632035</td>\n",
       "      <td>3.597784</td>\n",
       "      <td>7.023244</td>\n",
       "      <td>5.335348</td>\n",
       "      <td>9.922799</td>\n",
       "      <td>3.977642</td>\n",
       "    </tr>\n",
       "    <tr>\n",
       "      <th>2519</th>\n",
       "      <td>12.128100</td>\n",
       "      <td>5.747169</td>\n",
       "      <td>5.122188</td>\n",
       "      <td>6.852287</td>\n",
       "      <td>6.156454</td>\n",
       "      <td>4.710905</td>\n",
       "      <td>5.767010</td>\n",
       "      <td>1.904596</td>\n",
       "      <td>3.842450</td>\n",
       "      <td>3.113350</td>\n",
       "      <td>...</td>\n",
       "      <td>3.012902</td>\n",
       "      <td>5.376034</td>\n",
       "      <td>6.957803</td>\n",
       "      <td>5.400045</td>\n",
       "      <td>2.581828</td>\n",
       "      <td>3.679581</td>\n",
       "      <td>6.939805</td>\n",
       "      <td>5.434843</td>\n",
       "      <td>9.801419</td>\n",
       "      <td>4.018459</td>\n",
       "    </tr>\n",
       "    <tr>\n",
       "      <th>2520</th>\n",
       "      <td>11.999639</td>\n",
       "      <td>5.792728</td>\n",
       "      <td>5.123046</td>\n",
       "      <td>6.827184</td>\n",
       "      <td>6.205182</td>\n",
       "      <td>4.820547</td>\n",
       "      <td>5.848965</td>\n",
       "      <td>1.897065</td>\n",
       "      <td>3.836836</td>\n",
       "      <td>3.138945</td>\n",
       "      <td>...</td>\n",
       "      <td>3.051552</td>\n",
       "      <td>5.495429</td>\n",
       "      <td>6.878079</td>\n",
       "      <td>5.279561</td>\n",
       "      <td>2.616116</td>\n",
       "      <td>3.765240</td>\n",
       "      <td>6.963501</td>\n",
       "      <td>5.463009</td>\n",
       "      <td>9.935628</td>\n",
       "      <td>4.012343</td>\n",
       "    </tr>\n",
       "  </tbody>\n",
       "</table>\n",
       "<p>2521 rows × 500 columns</p>\n",
       "</div>"
      ],
      "text/plain": [
       "            0         1         2         3         4         5         6    \\\n",
       "0      1.000000  1.000000  1.000000  1.000000  1.000000  1.000000  1.000000   \n",
       "1      0.992364  1.006498  0.995655  1.008427  0.991400  0.986355  1.002116   \n",
       "2      0.996420  1.031057  1.004709  1.024456  0.979561  0.991557  1.023429   \n",
       "3      0.987107  1.025950  1.010020  1.027459  0.989354  0.983171  1.033388   \n",
       "4      0.983750  1.046068  1.005601  1.014975  0.984264  0.965875  1.031604   \n",
       "...         ...       ...       ...       ...       ...       ...       ...   \n",
       "2516  12.276237  5.715817  5.314232  6.868787  6.115701  4.677888  5.783509   \n",
       "2517  12.042424  5.610953  5.203102  6.792263  6.055746  4.675207  5.889675   \n",
       "2518  12.056597  5.720415  5.121482  6.775787  6.077649  4.748474  5.723060   \n",
       "2519  12.128100  5.747169  5.122188  6.852287  6.156454  4.710905  5.767010   \n",
       "2520  11.999639  5.792728  5.123046  6.827184  6.205182  4.820547  5.848965   \n",
       "\n",
       "           7         8         9    ...       490       491       492  \\\n",
       "0     1.000000  1.000000  1.000000  ...  1.000000  1.000000  1.000000   \n",
       "1     1.000087  1.019985  0.998719  ...  1.003336  0.980135  0.998386   \n",
       "2     0.991202  1.017252  1.006247  ...  1.011622  0.981737  1.001240   \n",
       "3     1.000736  1.009347  0.994052  ...  0.999532  0.976059  1.015138   \n",
       "4     1.016272  1.019748  0.985256  ...  0.994308  0.982607  1.023509   \n",
       "...        ...       ...       ...  ...       ...       ...       ...   \n",
       "2516  1.957759  3.880224  3.167259  ...  3.087340  5.274581  7.021012   \n",
       "2517  1.930533  3.881114  3.148590  ...  3.028317  5.343451  7.016756   \n",
       "2518  1.929177  3.821224  3.115308  ...  3.012688  5.350346  7.025248   \n",
       "2519  1.904596  3.842450  3.113350  ...  3.012902  5.376034  6.957803   \n",
       "2520  1.897065  3.836836  3.138945  ...  3.051552  5.495429  6.878079   \n",
       "\n",
       "           493       494       495       496       497       498       499  \n",
       "0     1.000000  1.000000  1.000000  1.000000  1.000000  1.000000  1.000000  \n",
       "1     1.012497  0.986148  0.987846  0.999896  0.995067  1.010818  0.999615  \n",
       "2     1.017937  0.973631  0.969493  0.991760  0.991414  1.003975  1.009585  \n",
       "3     1.012275  0.971678  0.968507  1.011712  0.987915  1.014471  1.001234  \n",
       "4     1.000413  0.966735  0.964675  1.003168  0.983248  1.004459  1.010328  \n",
       "...        ...       ...       ...       ...       ...       ...       ...  \n",
       "2516  5.496711  2.624284  3.668912  7.177744  5.419437  9.923460  3.961622  \n",
       "2517  5.530943  2.630940  3.626051  7.225205  5.378087  9.942612  4.014543  \n",
       "2518  5.481710  2.632035  3.597784  7.023244  5.335348  9.922799  3.977642  \n",
       "2519  5.400045  2.581828  3.679581  6.939805  5.434843  9.801419  4.018459  \n",
       "2520  5.279561  2.616116  3.765240  6.963501  5.463009  9.935628  4.012343  \n",
       "\n",
       "[2521 rows x 500 columns]"
      ]
     },
     "execution_count": 168,
     "metadata": {},
     "output_type": "execute_result"
    }
   ],
   "source": [
    "# Run the Monte Carlo simulation to forecast 10 years cumulative returns\n",
    "mc_ten_year.calc_cumulative_return()\n"
   ]
  },
  {
   "cell_type": "code",
   "execution_count": 169,
   "metadata": {},
   "outputs": [
    {
     "data": {
      "image/png": "[encoded data removed]",
      "text/plain": [
       "<Figure size 432x288 with 1 Axes>"
      ]
     },
     "metadata": {
      "needs_background": "light"
     },
     "output_type": "display_data"
    }
   ],
   "source": [
    "# Visualize the 10-year Monte Carlo simulation by creating an\n",
    "# overlay line plot\n",
    "mc_ten_year_plot = mc_ten_year.plot_simulation()\n"
   ]
  },
  {
   "cell_type": "code",
   "execution_count": 170,
   "metadata": {},
   "outputs": [
    {
     "data": {
      "image/png": "[encoded data removed]",
      "text/plain": [
       "<Figure size 432x288 with 1 Axes>"
      ]
     },
     "metadata": {
      "needs_background": "light"
     },
     "output_type": "display_data"
    }
   ],
   "source": [
    "# Visualize the probability distribution of the 10-year Monte Carlo simulation \n",
    "# by plotting a histogram\n",
    "mc_ten_year_distribution = mc_ten_year.plot_distribution()\n"
   ]
  },
  {
   "cell_type": "code",
   "execution_count": 171,
   "metadata": {},
   "outputs": [
    {
     "data": {
      "text/plain": [
       "count           500.000000\n",
       "mean              4.460061\n",
       "std               2.960848\n",
       "min               0.659135\n",
       "25%               2.579489\n",
       "50%               3.604934\n",
       "75%               5.423994\n",
       "max              21.429574\n",
       "95% CI Lower      1.177293\n",
       "95% CI Upper     12.141065\n",
       "Name: 2520, dtype: float64"
      ]
     },
     "execution_count": 171,
     "metadata": {},
     "output_type": "execute_result"
    }
   ],
   "source": [
    "# Generate summary statistics from the 10-year Monte Carlo simulation results\n",
    "# Save the results as a variable\n",
    "mc_ten_year_description = mc_ten_year.summarize_cumulative_return()\n",
    "\n",
    "\n",
    "# Review the 10-year Monte Carlo summary statistics\n",
    "mc_ten_year_description"
   ]
  },
  {
   "cell_type": "markdown",
   "metadata": {},
   "source": [
    "### Answer the following questions:"
   ]
  },
  {
   "cell_type": "markdown",
   "metadata": {},
   "source": [
    "#### Question: Using the current value of only the stock and bond portion of the member's portfolio and the summary statistics that you generated from the new Monte Carlo simulation, what are the lower and upper bounds for the expected value of the portfolio (with the new weights) with a 95% confidence interval?"
   ]
  },
  {
   "cell_type": "code",
   "execution_count": 172,
   "metadata": {},
   "outputs": [
    {
     "data": {
      "text/plain": [
       "71523.9"
      ]
     },
     "execution_count": 172,
     "metadata": {},
     "output_type": "execute_result"
    }
   ],
   "source": [
    "# Print the current balance of the stock and bond portion of the members portfolio\n",
    "total_stocks_bonds\n"
   ]
  },
  {
   "cell_type": "code",
   "execution_count": 173,
   "metadata": {},
   "outputs": [
    {
     "data": {
      "text/plain": [
       "84204.62226858213"
      ]
     },
     "metadata": {},
     "output_type": "display_data"
    },
    {
     "data": {
      "text/plain": [
       "868376.3317551267"
      ]
     },
     "metadata": {},
     "output_type": "display_data"
    }
   ],
   "source": [
    "# Use the lower and upper `95%` confidence intervals to calculate the range of the possible outcomes for the current stock/bond portfolio\n",
    "ci_lower_ten_cumulative_return = mc_ten_year_description[8] * total_stocks_bonds\n",
    "ci_upper_ten_cumulative_return = mc_ten_year_description[9] * total_stocks_bonds\n",
    "\n",
    "# Print the result of your calculations\n",
    "display(ci_lower_ten_cumulative_return)\n",
    "display(ci_upper_ten_cumulative_return)\n"
   ]
  },
  {
   "cell_type": "code",
   "execution_count": 178,
   "metadata": {},
   "outputs": [
    {
     "data": {
      "text/plain": [
       "'30 Year lower 294244.55777583725'"
      ]
     },
     "metadata": {},
     "output_type": "display_data"
    },
    {
     "data": {
      "text/plain": [
       "'30 year upper 2568653.167169265'"
      ]
     },
     "metadata": {},
     "output_type": "display_data"
    },
    {
     "name": "stdout",
     "output_type": "stream",
     "text": [
      "\n"
     ]
    },
    {
     "data": {
      "text/plain": [
       "'10 Year lower 84204.62226858213'"
      ]
     },
     "metadata": {},
     "output_type": "display_data"
    },
    {
     "data": {
      "text/plain": [
       "'10 year upper 868376.3317551267'"
      ]
     },
     "metadata": {},
     "output_type": "display_data"
    }
   ],
   "source": [
    "display(f\"30 Year lower {ci_lower_thirty_cumulative_return}\")\n",
    "display(f\"30 year upper {ci_upper_thirty_cumulative_return}\")\n",
    "print()\n",
    "display(f\"10 Year lower {ci_lower_ten_cumulative_return}\")\n",
    "display(f\"10 year upper {ci_upper_ten_cumulative_return}\")\n"
   ]
  },
  {
   "cell_type": "markdown",
   "metadata": {},
   "source": [
    "#### Question: Will weighting the portfolio more heavily to stocks allow the credit union members to retire after only 10 years?"
   ]
  },
  {
   "cell_type": "raw",
   "metadata": {},
   "source": [
    "**Answer** After 10 years of a 80/20 stock portfolio the member has the potential to have a portfolio worth $868,376 on the upper limit but if the market doesnt do so well it may only be worth $84,204. I dont believe either amount would truly be enough to retire. On the other hand a 30-year 60/40 weighted portfolio has the potential to return him over 2million to the upper limit, but at worse case be valued at $294,244. I would say a 15 year with an even 50/50 may yield him the best result. "
   ]
  },
  {
   "cell_type": "code",
   "execution_count": null,
   "metadata": {},
   "outputs": [],
   "source": []
  }
 ],
 "metadata": {
  "kernelspec": {
   "display_name": "Python 3",
   "language": "python",
   "name": "python3"
  },
  "language_info": {
   "codemirror_mode": {
    "name": "ipython",
    "version": 3
   },
   "file_extension": ".py",
   "mimetype": "text/x-python",
   "name": "python",
   "nbconvert_exporter": "python",
   "pygments_lexer": "ipython3",
   "version": "3.7.10"
  }
 },
 "nbformat": 4,
 "nbformat_minor": 4
}
